{
 "cells": [
  {
   "cell_type": "code",
   "id": "initial_id",
   "metadata": {
    "collapsed": true,
    "ExecuteTime": {
     "end_time": "2025-04-20T03:01:15.649585Z",
     "start_time": "2025-04-20T03:01:15.647444Z"
    }
   },
   "source": [
    "import pandas as pd\n",
    "import seaborn as sns\n",
    "import matplotlib.pyplot as plt"
   ],
   "outputs": [],
   "execution_count": 4
  },
  {
   "metadata": {
    "ExecuteTime": {
     "end_time": "2025-04-20T03:01:42.590399Z",
     "start_time": "2025-04-20T03:01:42.137990Z"
    }
   },
   "cell_type": "code",
   "source": [
    "df_log = pd.read_csv('aodv_routing_log.csv')\n",
    "df_log.head()"
   ],
   "id": "c0787430e8c16697",
   "outputs": [
    {
     "data": {
      "text/plain": [
       "        Time       Node Destination  Previous_LifeTime  New_LifeTime  \\\n",
       "0  30.003715   node[35]    10.0.0.9          32.018917     35.523715   \n",
       "1  30.003715  node[265]    10.0.0.9          32.827838     35.523715   \n",
       "2  30.003715  node[243]    10.0.0.9          32.003715     35.523715   \n",
       "3  30.003715  node[130]    10.0.0.9          32.796692     35.523715   \n",
       "4  30.003715  node[102]    10.0.0.9          32.735502     35.523715   \n",
       "\n",
       "  Previous_NextHop New_NextHop  Previous_HopCount  New_HopCount  \n",
       "0         10.0.0.9    10.0.0.9                  1             1  \n",
       "1         10.0.0.9    10.0.0.9                  1             1  \n",
       "2         10.0.0.9    10.0.0.9                  1             1  \n",
       "3         10.0.0.9    10.0.0.9                  1             1  \n",
       "4         10.0.0.9    10.0.0.9                  1             1  "
      ],
      "text/html": [
       "<div>\n",
       "<style scoped>\n",
       "    .dataframe tbody tr th:only-of-type {\n",
       "        vertical-align: middle;\n",
       "    }\n",
       "\n",
       "    .dataframe tbody tr th {\n",
       "        vertical-align: top;\n",
       "    }\n",
       "\n",
       "    .dataframe thead th {\n",
       "        text-align: right;\n",
       "    }\n",
       "</style>\n",
       "<table border=\"1\" class=\"dataframe\">\n",
       "  <thead>\n",
       "    <tr style=\"text-align: right;\">\n",
       "      <th></th>\n",
       "      <th>Time</th>\n",
       "      <th>Node</th>\n",
       "      <th>Destination</th>\n",
       "      <th>Previous_LifeTime</th>\n",
       "      <th>New_LifeTime</th>\n",
       "      <th>Previous_NextHop</th>\n",
       "      <th>New_NextHop</th>\n",
       "      <th>Previous_HopCount</th>\n",
       "      <th>New_HopCount</th>\n",
       "    </tr>\n",
       "  </thead>\n",
       "  <tbody>\n",
       "    <tr>\n",
       "      <th>0</th>\n",
       "      <td>30.003715</td>\n",
       "      <td>node[35]</td>\n",
       "      <td>10.0.0.9</td>\n",
       "      <td>32.018917</td>\n",
       "      <td>35.523715</td>\n",
       "      <td>10.0.0.9</td>\n",
       "      <td>10.0.0.9</td>\n",
       "      <td>1</td>\n",
       "      <td>1</td>\n",
       "    </tr>\n",
       "    <tr>\n",
       "      <th>1</th>\n",
       "      <td>30.003715</td>\n",
       "      <td>node[265]</td>\n",
       "      <td>10.0.0.9</td>\n",
       "      <td>32.827838</td>\n",
       "      <td>35.523715</td>\n",
       "      <td>10.0.0.9</td>\n",
       "      <td>10.0.0.9</td>\n",
       "      <td>1</td>\n",
       "      <td>1</td>\n",
       "    </tr>\n",
       "    <tr>\n",
       "      <th>2</th>\n",
       "      <td>30.003715</td>\n",
       "      <td>node[243]</td>\n",
       "      <td>10.0.0.9</td>\n",
       "      <td>32.003715</td>\n",
       "      <td>35.523715</td>\n",
       "      <td>10.0.0.9</td>\n",
       "      <td>10.0.0.9</td>\n",
       "      <td>1</td>\n",
       "      <td>1</td>\n",
       "    </tr>\n",
       "    <tr>\n",
       "      <th>3</th>\n",
       "      <td>30.003715</td>\n",
       "      <td>node[130]</td>\n",
       "      <td>10.0.0.9</td>\n",
       "      <td>32.796692</td>\n",
       "      <td>35.523715</td>\n",
       "      <td>10.0.0.9</td>\n",
       "      <td>10.0.0.9</td>\n",
       "      <td>1</td>\n",
       "      <td>1</td>\n",
       "    </tr>\n",
       "    <tr>\n",
       "      <th>4</th>\n",
       "      <td>30.003715</td>\n",
       "      <td>node[102]</td>\n",
       "      <td>10.0.0.9</td>\n",
       "      <td>32.735502</td>\n",
       "      <td>35.523715</td>\n",
       "      <td>10.0.0.9</td>\n",
       "      <td>10.0.0.9</td>\n",
       "      <td>1</td>\n",
       "      <td>1</td>\n",
       "    </tr>\n",
       "  </tbody>\n",
       "</table>\n",
       "</div>"
      ]
     },
     "execution_count": 5,
     "metadata": {},
     "output_type": "execute_result"
    }
   ],
   "execution_count": 5
  },
  {
   "metadata": {
    "ExecuteTime": {
     "end_time": "2025-04-20T03:36:26.870362Z",
     "start_time": "2025-04-20T03:36:26.504770Z"
    }
   },
   "cell_type": "code",
   "source": [
    "node_freq = {}\n",
    "\n",
    "for node, prev, cur in df_log[['Node', 'Previous_LifeTime', 'New_LifeTime']].values:\n",
    "    if node_freq.get(node) is None :\n",
    "        node_freq[node] = [1, 0]\n",
    "    else :\n",
    "        node_freq[node][0] += 1\n",
    "        if prev > cur :\n",
    "            node_freq[node][1] += 1"
   ],
   "id": "b6dee92a3468181d",
   "outputs": [],
   "execution_count": 22
  },
  {
   "metadata": {
    "ExecuteTime": {
     "end_time": "2025-04-20T03:36:27.576397Z",
     "start_time": "2025-04-20T03:36:27.573993Z"
    }
   },
   "cell_type": "code",
   "source": "print([v[1] for v in node_freq.values()])",
   "id": "f46a53e683d3b95c",
   "outputs": [
    {
     "name": "stdout",
     "output_type": "stream",
     "text": [
      "[40, 41, 18, 42, 33, 35, 58, 19, 26, 39, 12, 43, 54, 19, 46, 50, 4, 48, 70, 8, 54, 29, 38, 62, 31, 4, 0, 0, 28, 42, 34, 53, 12, 1, 24, 12, 41, 22, 12, 21, 3, 28, 58, 23, 50, 45, 39, 3, 10, 12, 3, 38, 29, 0, 26, 1, 1, 5, 19, 16, 11, 14, 1, 14, 5, 19, 2, 37, 2, 44, 38, 41, 60, 0, 6, 34, 72, 22, 62, 8, 41, 58, 3, 43, 41, 0, 39, 0, 11, 0, 6, 0, 1, 20, 58, 17, 3, 7, 0, 40, 43, 8, 3, 5, 5, 3, 3, 10, 3, 5, 2, 26, 37, 3, 21, 11, 2, 53, 19, 23, 4, 55, 13, 19, 15, 16, 0, 0, 33, 13, 5, 11, 43, 21, 11, 35, 3, 8, 1, 2, 2, 5, 1, 0, 3, 28, 23, 1, 9, 9, 4, 37, 20, 7, 20, 46, 57, 35, 53, 34, 28, 33, 21, 22, 43, 57, 59, 29, 4, 0, 3, 0, 7, 36, 26, 13, 0, 62, 43, 78, 18, 60, 76, 56, 37, 29, 23, 1, 21, 53, 40, 45, 48, 50, 41, 17, 27, 2, 1, 41, 48, 40, 43, 0, 0, 0, 49, 2, 21, 23, 14, 22, 0, 1, 24, 3, 2, 4, 32, 21, 21, 40, 9, 0, 0, 0, 17, 0, 1, 4, 22, 34, 52, 31, 4, 26, 4, 45, 54, 2, 15, 0, 0, 0, 2, 2, 1, 0, 3, 0, 40, 19, 0, 0, 0, 19, 0, 32, 39, 0, 0, 1, 0, 0, 2, 43, 26, 16, 0, 0, 2, 14, 3, 0, 0, 0, 0, 4, 35, 27, 25, 0, 4, 1, 0, 40, 5, 0, 4, 0, 0, 4, 2, 5, 3, 0, 5, 11, 1, 0, 0, 3, 2, 0, 0, 4, 13, 0, 9, 2, 0, 5, 12, 36, 69, 41, 38, 1, 34, 31, 55, 4, 0, 43, 45, 0, 18, 60, 1, 43, 12, 32, 27, 2, 1, 33, 2, 0, 26, 7, 0, 0, 1, 0, 8, 0, 41, 50, 1, 16, 3, 7, 17, 0, 2, 0, 28, 0, 0, 19, 0, 3, 40, 30, 3, 41, 15, 1, 0, 3, 13, 13, 66, 4, 39, 0, 0, 0, 2, 13, 2, 14, 12, 27, 1, 26, 21, 48, 37, 7, 30, 39, 1, 1, 28, 0, 31, 30, 0, 6, 1, 5, 3, 0, 49, 53, 3, 0, 8, 2, 13, 0, 16, 0, 0, 1, 0, 1, 62, 5, 2, 4, 1, 0, 0, 24, 1, 13, 0, 6, 0, 0, 1, 2, 0, 3, 0, 1, 1, 0, 0, 3, 0, 0, 0, 0, 0, 0, 0, 0, 0, 0, 0, 0, 0, 0, 0, 0, 0, 0, 0, 0, 0, 0, 0, 0, 0, 0, 0, 0, 0, 0, 0, 0, 0, 0, 0, 0, 0, 0, 0, 0, 0, 0, 0, 0, 0, 0, 0, 0, 0, 0, 0, 0, 0, 0, 0, 0, 0, 0, 0, 0, 0, 0, 0, 0, 0, 0, 0, 0, 0, 0, 0, 0, 0, 0, 0, 0, 0, 0, 0]\n"
     ]
    }
   ],
   "execution_count": 23
  },
  {
   "metadata": {
    "ExecuteTime": {
     "end_time": "2025-04-20T03:36:30.943226Z",
     "start_time": "2025-04-20T03:36:30.836161Z"
    }
   },
   "cell_type": "code",
   "source": [
    "plt.figure(figsize=(10, 5))\n",
    "sns.kdeplot([v[1] for v in node_freq.values()], fill=True)\n",
    "plt.show()"
   ],
   "id": "49b14e3fc9341202",
   "outputs": [
    {
     "data": {
      "text/plain": [
       "<Figure size 1000x500 with 1 Axes>"
      ],
      "image/png": "[encoded data removed]"
     },
     "metadata": {},
     "output_type": "display_data"
    }
   ],
   "execution_count": 24
  }
 ],
 "metadata": {
  "kernelspec": {
   "display_name": "Python 3",
   "language": "python",
   "name": "python3"
  },
  "language_info": {
   "codemirror_mode": {
    "name": "ipython",
    "version": 2
   },
   "file_extension": ".py",
   "mimetype": "text/x-python",
   "name": "python",
   "nbconvert_exporter": "python",
   "pygments_lexer": "ipython2",
   "version": "2.7.6"
  }
 },
 "nbformat": 4,
 "nbformat_minor": 5
}
