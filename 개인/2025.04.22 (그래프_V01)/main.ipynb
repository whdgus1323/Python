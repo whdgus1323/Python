{
 "cells": [
  {
   "metadata": {
    "ExecuteTime": {
     "end_time": "2025-04-23T07:44:36.455753Z",
     "start_time": "2025-04-23T07:44:36.451840Z"
    }
   },
   "cell_type": "code",
   "source": [
    "import numpy as np\n",
    "import pandas as pd\n",
    "import seaborn as sns\n",
    "import matplotlib.pyplot as plt"
   ],
   "id": "e1237113f5b4fe8a",
   "outputs": [],
   "execution_count": 164
  },
  {
   "metadata": {
    "ExecuteTime": {
     "end_time": "2025-04-23T07:47:29.996712Z",
     "start_time": "2025-04-23T07:47:29.814142Z"
    }
   },
   "cell_type": "code",
   "source": [
    "drop_log = pd.read_csv('1/sinr_drop_log.csv')\n",
    "drop_log.head()\n",
    "drop_log.columns = ['Time', 'SINR', 'Packet', 'Tx_ID', 'Rx_ID', 'X', 'Y', 'Z', 'None', 'Near', 'Total']"
   ],
   "id": "f49a8a6536eb731d",
   "outputs": [],
   "execution_count": 168
  },
  {
   "metadata": {
    "ExecuteTime": {
     "end_time": "2025-04-23T07:49:13.427698Z",
     "start_time": "2025-04-23T07:49:13.415162Z"
    }
   },
   "cell_type": "code",
   "source": [
    "freq_df = drop_log[['Time', 'SINR', 'Packet', 'Tx_ID', 'Rx_ID', 'Near', 'Total']]\n",
    "freq_df.head()"
   ],
   "id": "c3b0aa0b8e88a13c",
   "outputs": [
    {
     "data": {
      "text/plain": [
       "        Time      SINR      Packet  Tx_ID  Rx_ID  Near  Total\n",
       "0  30.004567   5.92589  aodv::Rreq     21    205     1    296\n",
       "1  30.004567   8.38163  aodv::Rreq     21      5     1    296\n",
       "2  30.004567  12.76240  aodv::Rreq     21    243     1    296\n",
       "3  30.004567  10.25880  aodv::Rreq     21     18     1    296\n",
       "4  30.004567   5.72366  aodv::Rreq     21     36     2    296"
      ],
      "text/html": [
       "<div>\n",
       "<style scoped>\n",
       "    .dataframe tbody tr th:only-of-type {\n",
       "        vertical-align: middle;\n",
       "    }\n",
       "\n",
       "    .dataframe tbody tr th {\n",
       "        vertical-align: top;\n",
       "    }\n",
       "\n",
       "    .dataframe thead th {\n",
       "        text-align: right;\n",
       "    }\n",
       "</style>\n",
       "<table border=\"1\" class=\"dataframe\">\n",
       "  <thead>\n",
       "    <tr style=\"text-align: right;\">\n",
       "      <th></th>\n",
       "      <th>Time</th>\n",
       "      <th>SINR</th>\n",
       "      <th>Packet</th>\n",
       "      <th>Tx_ID</th>\n",
       "      <th>Rx_ID</th>\n",
       "      <th>Near</th>\n",
       "      <th>Total</th>\n",
       "    </tr>\n",
       "  </thead>\n",
       "  <tbody>\n",
       "    <tr>\n",
       "      <th>0</th>\n",
       "      <td>30.004567</td>\n",
       "      <td>5.92589</td>\n",
       "      <td>aodv::Rreq</td>\n",
       "      <td>21</td>\n",
       "      <td>205</td>\n",
       "      <td>1</td>\n",
       "      <td>296</td>\n",
       "    </tr>\n",
       "    <tr>\n",
       "      <th>1</th>\n",
       "      <td>30.004567</td>\n",
       "      <td>8.38163</td>\n",
       "      <td>aodv::Rreq</td>\n",
       "      <td>21</td>\n",
       "      <td>5</td>\n",
       "      <td>1</td>\n",
       "      <td>296</td>\n",
       "    </tr>\n",
       "    <tr>\n",
       "      <th>2</th>\n",
       "      <td>30.004567</td>\n",
       "      <td>12.76240</td>\n",
       "      <td>aodv::Rreq</td>\n",
       "      <td>21</td>\n",
       "      <td>243</td>\n",
       "      <td>1</td>\n",
       "      <td>296</td>\n",
       "    </tr>\n",
       "    <tr>\n",
       "      <th>3</th>\n",
       "      <td>30.004567</td>\n",
       "      <td>10.25880</td>\n",
       "      <td>aodv::Rreq</td>\n",
       "      <td>21</td>\n",
       "      <td>18</td>\n",
       "      <td>1</td>\n",
       "      <td>296</td>\n",
       "    </tr>\n",
       "    <tr>\n",
       "      <th>4</th>\n",
       "      <td>30.004567</td>\n",
       "      <td>5.72366</td>\n",
       "      <td>aodv::Rreq</td>\n",
       "      <td>21</td>\n",
       "      <td>36</td>\n",
       "      <td>2</td>\n",
       "      <td>296</td>\n",
       "    </tr>\n",
       "  </tbody>\n",
       "</table>\n",
       "</div>"
      ]
     },
     "execution_count": 173,
     "metadata": {},
     "output_type": "execute_result"
    }
   ],
   "execution_count": 173
  },
  {
   "metadata": {
    "ExecuteTime": {
     "end_time": "2025-04-23T07:54:51.986417Z",
     "start_time": "2025-04-23T07:54:51.663719Z"
    }
   },
   "cell_type": "code",
   "source": [
    "import pandas as pd\n",
    "\n",
    "df = pd.read_csv(\"1/sinr_drop_log.csv\", header=None, na_filter=False,\n",
    "                 names=[\"Time\", \"SINR_MIN\", \"Packet\", \"TX_ID\", \"RX_ID\",\n",
    "                        \"RX_X\", \"RX_Y\", \"RX_Z\", \"EMPTY\", \"Nearby\", \"Total\"])\n",
    "\n",
    "df[\"Packet\"] = df[\"Packet\"].astype(str).str.strip()\n",
    "\n",
    "df_rreq = df[df[\"Packet\"].str.contains(\"Rreq\", case=False)]\n",
    "\n",
    "grouped = df_rreq.groupby([\"Nearby\", \"Total\"]).size().reset_index(name=\"RREQ_Drop_Count\")\n",
    "\n",
    "grouped = grouped.sort_values(by=\"RREQ_Drop_Count\", ascending=False)\n",
    "\n",
    "print(grouped.to_string(index=False))\n"
   ],
   "id": "1946e0d32b4ec2db",
   "outputs": [
    {
     "name": "stdout",
     "output_type": "stream",
     "text": [
      " Nearby  Total  RREQ_Drop_Count\n",
      "      0     15           159109\n",
      "      1     15            22321\n",
      "      2     15             1903\n",
      "      2    400             1745\n",
      "      1    333             1572\n",
      "      1    400             1523\n",
      "      1    323             1493\n",
      "      2    333             1396\n",
      "      3    400             1245\n",
      "      2    323             1217\n",
      "      1    306             1087\n",
      "      4    400             1057\n",
      "      1    316              928\n",
      "      3    333              886\n",
      "      3    323              811\n",
      "      2    316              764\n",
      "      2    306              725\n",
      "      0    323              683\n",
      "      0    306              624\n",
      "      0    400              618\n",
      "      0    333              594\n",
      "      3    306              554\n",
      "      3    316              550\n",
      "      0    316              470\n",
      "      5    400              427\n",
      "      1    296              372\n",
      "      4    333              342\n",
      "      6    400              338\n",
      "      7    400              313\n",
      "      4    306              270\n",
      "      4    323              243\n",
      "      0    296              233\n",
      "      5    323              229\n",
      "      5    316              217\n",
      "      5    333              199\n",
      "      5    306              193\n",
      "      2    296              193\n",
      "      6    333              178\n",
      "      4    316              174\n",
      "      3    296              140\n",
      "      4    296              100\n",
      "      6    323               75\n",
      "      5    296               55\n",
      "      6    316               52\n",
      "      8    400               21\n",
      "      9    400               16\n",
      "      7    316               13\n",
      "      6    306               10\n",
      "      7    306               10\n",
      "      0    365                9\n",
      "      7    296                8\n",
      "      2    365                8\n",
      "      1    365                7\n",
      "      3    365                1\n"
     ]
    }
   ],
   "execution_count": 183
  },
  {
   "metadata": {
    "ExecuteTime": {
     "end_time": "2025-04-23T08:12:36.957953Z",
     "start_time": "2025-04-23T08:12:36.920385Z"
    }
   },
   "cell_type": "code",
   "source": [
    "import pandas as pd\n",
    "\n",
    "df = pd.read_csv(\"sinr_drop_log-1.csv\", header=None, na_filter=False,\n",
    "                 names=[\"Time\", \"SINR_MIN\", \"Packet\", \"TX_ID\", \"RX_ID\",\n",
    "                        \"RX_X\", \"RX_Y\", \"RX_Z\", \"EMPTY\", \"Nearby\", \"Total\"])\n",
    "\n",
    "df[\"Packet\"] = df[\"Packet\"].astype(str).str.strip()\n",
    "\n",
    "df_rreq = df[df[\"Packet\"].str.contains(\"Rreq\", case=False)]\n",
    "\n",
    "print(\"Total RREQ Drop Count:\", len(df_rreq))\n"
   ],
   "id": "284771b30089e602",
   "outputs": [
    {
     "name": "stdout",
     "output_type": "stream",
     "text": [
      "Total RREQ Drop Count: 8372\n"
     ]
    }
   ],
   "execution_count": 190
  },
  {
   "metadata": {
    "ExecuteTime": {
     "end_time": "2025-04-23T08:12:46.753303Z",
     "start_time": "2025-04-23T08:12:46.723063Z"
    }
   },
   "cell_type": "code",
   "source": [
    "import pandas as pd\n",
    "\n",
    "df = pd.read_csv(\"sinr_drop_log-2.csv\", header=None, na_filter=False,\n",
    "                 names=[\"Time\", \"SINR_MIN\", \"Packet\", \"TX_ID\", \"RX_ID\",\n",
    "                        \"RX_X\", \"RX_Y\", \"RX_Z\", \"EMPTY\", \"Nearby\", \"Total\"])\n",
    "\n",
    "df[\"Packet\"] = df[\"Packet\"].astype(str).str.strip()\n",
    "\n",
    "df_rreq = df[df[\"Packet\"].str.contains(\"Rreq\", case=False)]\n",
    "\n",
    "print(\"Total RREQ Drop Count:\", len(df_rreq))\n"
   ],
   "id": "d6069889a4cb271c",
   "outputs": [
    {
     "name": "stdout",
     "output_type": "stream",
     "text": [
      "Total RREQ Drop Count: 8372\n"
     ]
    }
   ],
   "execution_count": 192
  }
 ],
 "metadata": {
  "kernelspec": {
   "display_name": "Python 3",
   "language": "python",
   "name": "python3"
  },
  "language_info": {
   "codemirror_mode": {
    "name": "ipython",
    "version": 2
   },
   "file_extension": ".py",
   "mimetype": "text/x-python",
   "name": "python",
   "nbconvert_exporter": "python",
   "pygments_lexer": "ipython2",
   "version": "2.7.6"
  }
 },
 "nbformat": 4,
 "nbformat_minor": 5
}
