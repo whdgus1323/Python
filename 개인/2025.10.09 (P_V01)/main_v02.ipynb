version https://git-lfs.github.com/spec/v1
oid sha256:2f159d7f0c43dc2cc8156c24719e814a981b336f8c8bdb7e15444e5850ce23ab
size 23415
