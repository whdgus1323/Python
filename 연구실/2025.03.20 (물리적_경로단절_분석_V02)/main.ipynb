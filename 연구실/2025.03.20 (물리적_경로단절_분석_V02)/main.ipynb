{
 "cells": [
  {
   "cell_type": "code",
   "execution_count": 1,
   "metadata": {},
   "outputs": [],
   "source": [
    "import re\n",
    "import time\n",
    "import matplotlib.pyplot as plt\n",
    "import numpy as np\n",
    "import platform\n",
    "from matplotlib import font_manager, rc"
   ]
  },
  {
   "cell_type": "code",
   "execution_count": 2,
   "metadata": {},
   "outputs": [],
   "source": [
    "if platform.system() == 'Windows':\n",
    "    rc('font', family='Malgun Gothic')"
   ]
  },
  {
   "cell_type": "code",
   "execution_count": 52,
   "metadata": {},
   "outputs": [],
   "source": [
    "success_pings = {}\n",
    "send_pings = {}"
   ]
  },
  {
   "cell_type": "code",
   "execution_count": 63,
   "metadata": {},
   "outputs": [],
   "source": [
    "with open('success_app.txt', 'r', encoding='utf-8') as file :\n",
    "    for line in file :\n",
    "        match = re.search(r'(\\d.+) : ping(\\d+)-reply : (\\d+)', line)\n",
    "        if match :\n",
    "            time_value = float(match.group(1))\n",
    "            ping_num = int(match.group(2))\n",
    "            success_pings[ping_num] = time_value"
   ]
  },
  {
   "cell_type": "code",
   "execution_count": null,
   "metadata": {},
   "outputs": [],
   "source": [
    "with open('sendPing.txt', 'r', encoding='utf-8') as file :\n",
    "    for line in file :\n",
    "        match = re.search(r'(\\d.+):(\\d+):', line)\n",
    "        if match:\n",
    "            time_value = float(match.group(1))\n",
    "            ping_num = int(match.group(2))\n",
    "            send_pings[ping_num] = time_value"
   ]
  },
  {
   "cell_type": "code",
   "execution_count": 85,
   "metadata": {},
   "outputs": [],
   "source": [
    "failed_pings = {ping : time for ping, time in send_pings.items() if ping not in success_pings}"
   ]
  },
  {
   "cell_type": "code",
   "execution_count": 86,
   "metadata": {},
   "outputs": [],
   "source": [
    "failed_sequence_numbers = sorted(failed_pings.keys())"
   ]
  },
  {
   "cell_type": "code",
   "execution_count": 88,
   "metadata": {},
   "outputs": [],
   "source": [
    "loss_ranges = []\n",
    "start_seq = None\n",
    "start_time = None"
   ]
  },
  {
   "cell_type": "code",
   "execution_count": null,
   "metadata": {},
   "outputs": [
    {
     "name": "stdout",
     "output_type": "stream",
     "text": [
      "0\n",
      "4\n",
      "5\n",
      "21\n",
      "23\n",
      "24\n",
      "25\n",
      "26\n",
      "28\n",
      "76\n",
      "85\n",
      "100\n",
      "101\n",
      "102\n",
      "103\n",
      "104\n",
      "105\n",
      "106\n",
      "107\n",
      "108\n",
      "109\n",
      "110\n",
      "111\n",
      "112\n",
      "113\n",
      "114\n",
      "115\n",
      "117\n",
      "118\n",
      "180\n",
      "240\n",
      "300\n",
      "380\n",
      "460\n",
      "590\n",
      "620\n"
     ]
    }
   ],
   "source": [
    "for i in range(len(failed_sequence_numbers)) :\n",
    "    seq_num = failed_sequence_numbers[i]\n",
    "    ping_time = failed_pings[seq_num]\n",
    "    if start_seq is None:\n",
    "        start_seq = seq_num\n",
    "        start_time = ping_time\n",
    "    if i == len(failed_sequence_numbers) - 1 or failed_sequence_numbers[i + i] != seq_num + 1:\n",
    "        loss_ranges.append((start_seq, start_time, ping_time))\n",
    "        start_seq = None\n",
    "        \n"
   ]
  },
  {
   "cell_type": "code",
   "execution_count": 91,
   "metadata": {},
   "outputs": [
    {
     "data": {
      "image/png": "[encoded data removed]",
      "text/plain": [
       "<Figure size 1000x500 with 1 Axes>"
      ]
     },
     "metadata": {},
     "output_type": "display_data"
    }
   ],
   "source": [
    "science = ['a', 'b', 'c', 'd']\n",
    "people = [6.8, 8.0, 14.7, 14.9]\n",
    "\n",
    "plt.figure(figsize = (10, 5))\n",
    "plt.pie(people, labels = science)\n",
    "plt.show()"
   ]
  }
 ],
 "metadata": {
  "kernelspec": {
   "display_name": "base",
   "language": "python",
   "name": "python3"
  },
  "language_info": {
   "codemirror_mode": {
    "name": "ipython",
    "version": 3
   },
   "file_extension": ".py",
   "mimetype": "text/x-python",
   "name": "python",
   "nbconvert_exporter": "python",
   "pygments_lexer": "ipython3",
   "version": "3.11.7"
  }
 },
 "nbformat": 4,
 "nbformat_minor": 2
}
