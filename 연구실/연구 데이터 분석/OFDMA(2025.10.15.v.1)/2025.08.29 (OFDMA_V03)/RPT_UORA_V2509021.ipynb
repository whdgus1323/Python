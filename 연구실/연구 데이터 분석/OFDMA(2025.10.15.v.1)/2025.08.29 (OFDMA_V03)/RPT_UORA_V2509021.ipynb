version https://git-lfs.github.com/spec/v1
oid sha256:3db22e1dbf0bb8a793f699cdcc25a98251a7438eba467821fd38560fceb8c09b
size 12922
