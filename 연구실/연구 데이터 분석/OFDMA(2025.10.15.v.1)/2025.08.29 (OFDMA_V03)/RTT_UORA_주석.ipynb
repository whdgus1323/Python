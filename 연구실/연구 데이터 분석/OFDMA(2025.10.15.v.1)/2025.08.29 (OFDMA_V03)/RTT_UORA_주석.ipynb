version https://git-lfs.github.com/spec/v1
oid sha256:1efee7a820da16052dcae1bd87f91983c54adf6879d469a3aa0aed18d84db823
size 144630
