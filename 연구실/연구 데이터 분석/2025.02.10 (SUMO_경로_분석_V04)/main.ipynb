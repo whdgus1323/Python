{
 "cells": [
  {
   "cell_type": "code",
   "execution_count": 1,
   "metadata": {},
   "outputs": [],
   "source": [
    "import pandas as pd # type: ignore\n",
    "import numpy as np # type: ignore\n",
    "import matplotlib.cm as cm # type: ignore\n",
    "import matplotlib.pyplot as plt # type: ignore\n",
    "import matplotlib.image as mpimg # type: ignore\n",
    "import xml.etree.ElementTree as ET # type: ignore\n",
    "from collections import defaultdict # type: ignore\n",
    "import matplotlib.patheffects as path_effects # type: ignore\n",
    "from matplotlib.ticker import FixedFormatter, FixedLocator # type: ignore"
   ]
  },
  {
   "cell_type": "code",
   "execution_count": 2,
   "metadata": {},
   "outputs": [],
   "source": [
    "def load_node_table(file_path) :\n",
    "    node_map = {}\n",
    "    with open(file_path, 'r') as file :\n",
    "        for line in file :\n",
    "            parts = line.split(':')\n",
    "            node_index = int(parts[0].strip())\n",
    "            node_value = int(parts[1].strip())\n",
    "            node_map[node_index] = node_value\n",
    "    return node_map"
   ]
  },
  {
   "cell_type": "code",
   "execution_count": 3,
   "metadata": {},
   "outputs": [],
   "source": [
    "def extract_data_form_xml(file_path, map_width = 1300, map_height = 1600, grid_size = 10, time_limit=100.0, target_vehicle_ids=None) :\n",
    "    tree = ET.parse(file_path)\n",
    "    root = tree.getroot()\n",
    "    extracted_data = []\n",
    "    \n",
    "    for timestep in root.findall('timestep') :\n",
    "        time = float(timestep.get('time'))\n",
    "        if time > time_limit:\n",
    "            break\n",
    "        for vehicle in timestep.findall('vehicle') :\n",
    "            vehicle_id = int(vehicle.get('id'))\n",
    "            \n",
    "            if target_vehicle_ids is not None and vehicle_id not in target_vehicle_ids :\n",
    "                continue\n",
    "            x = float(vehicle.get('x'))\n",
    "            y = float(vehicle.get('y'))\n",
    "            speed = float(vehicle.get('speed'))\n",
    "            \n",
    "            grid_x = int(x / (map_width / grid_size))\n",
    "            grid_y = int(y / (map_height / grid_size))\n",
    "            \n",
    "            extracted_data.append((time, vehicle_id, x, y, speed, grid_x, grid_y))\n",
    "    columns = ['time', 'vehicle_id', 'x', 'y', 'speed', 'grid_x', 'grid_y']\n",
    "    df = pd.DataFrame(extracted_data, columns=columns)\n",
    "    return df\n",
    "            "
   ]
  },
  {
   "cell_type": "code",
   "execution_count": 7,
   "metadata": {},
   "outputs": [],
   "source": [
    "def main() :\n",
    "    node_table = load_node_table('resource/node_table_low.txt')\n",
    "    target_node_ids = [i for i in range(0, 231)]\n",
    "    target_vehicle_ids = [node_table[node_id] for node_id in target_node_ids if node_id in node_table]\n",
    "    node_to_vehicle_map = {node_id : node_table[node_id] for node_id in target_node_ids if node_id in node_table}\n",
    "    \n",
    "    data = extract_data_form_xml ('resource/map0.xml', time_limit=200.0, target_vehicle_ids=target_vehicle_ids)\n",
    "    print(data)"
   ]
  },
  {
   "cell_type": "code",
   "execution_count": 8,
   "metadata": {},
   "outputs": [
    {
     "name": "stdout",
     "output_type": "stream",
     "text": [
      "         time  vehicle_id        x        y  speed  grid_x  grid_y\n",
      "0         0.0           0  1327.16   487.92   0.00      10       3\n",
      "1         0.1           0  1327.15   487.94   0.25      10       3\n",
      "2         0.2           0  1327.13   487.98   0.49      10       3\n",
      "3         0.3           0  1327.11   488.05   0.75      10       3\n",
      "4         0.4           0  1327.07   488.15   0.98      10       3\n",
      "...       ...         ...      ...      ...    ...     ...     ...\n",
      "181402  199.9          52   772.54  1250.81   0.00       5       7\n",
      "181403  199.9          67   785.01  1529.41  10.57       6       9\n",
      "181404  199.9          87   754.72  1282.02   0.00       5       8\n",
      "181405  199.9          97  1123.41  1524.73  12.51       8       9\n",
      "181406  199.9          98  1296.96  1529.08   4.42       9       9\n",
      "\n",
      "[181407 rows x 7 columns]\n"
     ]
    }
   ],
   "source": [
    "if __name__ == '__main__' :\n",
    "    main()"
   ]
  }
 ],
 "metadata": {
  "kernelspec": {
   "display_name": "base",
   "language": "python",
   "name": "python3"
  },
  "language_info": {
   "codemirror_mode": {
    "name": "ipython",
    "version": 3
   },
   "file_extension": ".py",
   "mimetype": "text/x-python",
   "name": "python",
   "nbconvert_exporter": "python",
   "pygments_lexer": "ipython3",
   "version": "3.11.7"
  }
 },
 "nbformat": 4,
 "nbformat_minor": 2
}
