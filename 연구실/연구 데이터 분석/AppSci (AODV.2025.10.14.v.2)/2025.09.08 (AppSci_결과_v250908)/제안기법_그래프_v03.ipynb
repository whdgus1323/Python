version https://git-lfs.github.com/spec/v1
oid sha256:5e8c6a3b9cd3816c4e72b8d3ae52b7bc3c8508c693cce807e50aa138a96124ed
size 2286000
