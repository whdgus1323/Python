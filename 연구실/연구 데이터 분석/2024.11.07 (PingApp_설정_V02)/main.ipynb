{
 "cells": [
  {
   "cell_type": "code",
   "execution_count": 6,
   "metadata": {},
   "outputs": [
    {
     "name": "stdout",
     "output_type": "stream",
     "text": [
      "Node 22에 해당하는 external_id 25의 마지막 time 값은 199.9입니다.\n",
      "Sent : 700\t\t Received : 403\t\t PDR 22 : 57.57%\n"
     ]
    }
   ],
   "source": [
    "import xml.etree.ElementTree as ET\n",
    "\n",
    "def load_external_ids(filename):\n",
    "    external_id_dict = {}\n",
    "    with open(filename, \"r\") as file:\n",
    "        for line in file:\n",
    "            left, right = line.split(\" : \")\n",
    "            left = left.strip()\n",
    "            right = right.strip()\n",
    "            external_id_dict[left] = right\n",
    "    return external_id_dict\n",
    "\n",
    "def get_last_timestep_time_for_external_id(xml_file, external_id):\n",
    "    tree = ET.parse(xml_file)\n",
    "    root = tree.getroot()\n",
    "    last_time = None\n",
    "\n",
    "    for timestep in root.findall('timestep'):\n",
    "        time = float(timestep.get('time'))\n",
    "        if any(vehicle.get('id') == external_id for vehicle in timestep.findall('vehicle')):\n",
    "            last_time = time\n",
    "\n",
    "    return last_time\n",
    "\n",
    "def get_seqs_before_last_time(filename, last_time):\n",
    "    seq_list = []\n",
    "    with open(filename, \"r\") as file:\n",
    "        for line in file:\n",
    "            time, seq = line.strip().split(\":\")\n",
    "            time = float(time)\n",
    "            seq = int(seq)\n",
    "            \n",
    "            if time < last_time:\n",
    "                seq_list.append(seq)\n",
    "                \n",
    "    return seq_list\n",
    "\n",
    "def calculate_pdr(send_seqs, reply_seqs):\n",
    "    total_sent = len(send_seqs)\n",
    "    \n",
    "    successfully_received = len([seq for seq in send_seqs if seq in reply_seqs])\n",
    "    \n",
    "    if total_sent == 0:\n",
    "        return 0\n",
    "    else:\n",
    "        pdr = successfully_received / total_sent\n",
    "        return pdr\n",
    "\n",
    "def analyze_pdr_for_node(xml_file, seedType, node_number):\n",
    "    external_id_dict = load_external_ids(f'external_id_table (Seed {seedType}).txt')\n",
    "    external_id = external_id_dict.get(str(node_number))\n",
    "    \n",
    "    if external_id:\n",
    "        last_time = get_last_timestep_time_for_external_id(xml_file, external_id)\n",
    "        if last_time is not None:\n",
    "            print(f\"Node {node_number}에 해당하는 external_id {external_id}의 마지막 time 값은 {last_time}입니다.\")\n",
    "            \n",
    "            send_filename = f\"PingSeq (Seed {seedType})/Send{node_number}{aodvType}.txt\"\n",
    "            reply_filename = f\"PingSeq (Seed {seedType})/Reply{node_number}{aodvType}.txt\"\n",
    "            \n",
    "            send_seqs = get_seqs_before_last_time(send_filename, last_time)\n",
    "            reply_seqs = get_seqs_before_last_time(reply_filename, last_time)\n",
    "\n",
    "            pdr = calculate_pdr(send_seqs, reply_seqs)\n",
    "            print(f\"Sent : {len(send_seqs)}\\t\\t Received : {len(reply_seqs)}\\t\\t PDR {node_number} : {pdr * 100:.2f}%\")\n",
    "        else:\n",
    "            print(f\"Node {node_number}에 해당하는 external_id {external_id}의 timestep 정보를 찾을 수 없습니다.\")\n",
    "    else:\n",
    "        print(f\"Node {node_number}에 해당하는 external_id를 찾을 수 없습니다.\")\n",
    "\n",
    "xml_file = 'fcd/map2.xml'\n",
    "external_id_file = \"external_id_table.txt\"\n",
    "node_number = 22\n",
    "aodvType = 'O'\n",
    "seedType = '2'\n",
    "analyze_pdr_for_node(xml_file, seedType, node_number)\n"
   ]
  }
 ],
 "metadata": {
  "kernelspec": {
   "display_name": "base",
   "language": "python",
   "name": "python3"
  },
  "language_info": {
   "codemirror_mode": {
    "name": "ipython",
    "version": 3
   },
   "file_extension": ".py",
   "mimetype": "text/x-python",
   "name": "python",
   "nbconvert_exporter": "python",
   "pygments_lexer": "ipython3",
   "version": "3.11.7"
  }
 },
 "nbformat": 4,
 "nbformat_minor": 2
}
