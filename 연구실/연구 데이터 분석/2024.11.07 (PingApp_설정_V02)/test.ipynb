{
 "cells": [
  {
   "cell_type": "code",
   "execution_count": 3,
   "metadata": {},
   "outputs": [],
   "source": [
    "import xml.etree.ElementTree as ET"
   ]
  },
  {
   "cell_type": "code",
   "execution_count": 9,
   "metadata": {},
   "outputs": [],
   "source": [
    "xml_file = 'fcd/map2.xml'\n",
    "external_id_file = \"external_id_table\"\n",
    "node_number = 9\n",
    "aodvType = 'O'\n",
    "seedType = '2'"
   ]
  },
  {
   "cell_type": "code",
   "execution_count": 24,
   "metadata": {},
   "outputs": [],
   "source": [
    "external_id_dic = {}\n",
    "with open(f'{external_id_file} (Seed {seedType}).txt') as file:\n",
    "    for line in file :\n",
    "        line = line.strip()\n",
    "        left, right = line.split(' : ')\n",
    "        external_id_dic[left] = right\n",
    "\n",
    "external_id = external_id_dic.get(str(node_number))\n",
    "        "
   ]
  },
  {
   "cell_type": "code",
   "execution_count": 25,
   "metadata": {},
   "outputs": [
    {
     "data": {
      "text/plain": [
       "'10'"
      ]
     },
     "execution_count": 25,
     "metadata": {},
     "output_type": "execute_result"
    }
   ],
   "source": [
    "external_id"
   ]
  },
  {
   "cell_type": "code",
   "execution_count": 5,
   "metadata": {},
   "outputs": [],
   "source": [
    "tree = ET.parse(xml_file)\n",
    "root = tree.getroot()\n",
    "last_time = None"
   ]
  },
  {
   "cell_type": "code",
   "execution_count": 30,
   "metadata": {},
   "outputs": [
    {
     "name": "stdout",
     "output_type": "stream",
     "text": [
      "68.6\n"
     ]
    }
   ],
   "source": [
    "for timestep in root.findall('timestep') :\n",
    "    time = float(timestep.get('time'))\n",
    "    if any(vehicle.get('id') == external_id for vehicle in timestep.findall('vehicle')) :\n",
    "        last_time = time\n",
    "print(last_time)"
   ]
  },
  {
   "cell_type": "code",
   "execution_count": 26,
   "metadata": {},
   "outputs": [],
   "source": [
    "for timestep in root.findall('timestep') :\n",
    "    time = float(timestep.get('time'))\n",
    "    if any(vehicle.get('id') == external_id for vehicle in timestep.findall('vehicle')) :\n",
    "        last_time = time\n",
    "    "
   ]
  }
 ],
 "metadata": {
  "kernelspec": {
   "display_name": "base",
   "language": "python",
   "name": "python3"
  },
  "language_info": {
   "codemirror_mode": {
    "name": "ipython",
    "version": 3
   },
   "file_extension": ".py",
   "mimetype": "text/x-python",
   "name": "python",
   "nbconvert_exporter": "python",
   "pygments_lexer": "ipython3",
   "version": "3.11.7"
  }
 },
 "nbformat": 4,
 "nbformat_minor": 2
}
