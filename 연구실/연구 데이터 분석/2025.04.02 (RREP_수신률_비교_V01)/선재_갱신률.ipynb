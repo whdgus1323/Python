{
 "cells": [
  {
   "cell_type": "code",
   "execution_count": 1,
   "metadata": {},
   "outputs": [
    {
     "name": "stdout",
     "output_type": "stream",
     "text": [
      "=== 선제 Lifetime 연장률 (3초 이내) ===\n",
      "[Node 6] Legacy: 99.81% | Proposed: 99.53%\n",
      "[Node 7] Legacy: 99.99% | Proposed: 99.99%\n",
      "[Node 17] Legacy: 99.42% | Proposed: 94.91%\n",
      "[Node 18] Legacy: 99.71% | Proposed: 99.28%\n",
      "[Node 21] Legacy: 99.09% | Proposed: 95.72%\n",
      "[Node 22] Legacy: 99.59% | Proposed: 99.44%\n",
      "[Node 24] Legacy: 98.94% | Proposed: 96.10%\n",
      "[Node 26] Legacy: 99.65% | Proposed: 96.30%\n",
      "[Node 27] Legacy: 98.23% | Proposed: 91.12%\n",
      "[Node 29] Legacy: 99.27% | Proposed: 98.46%\n"
     ]
    }
   ],
   "source": [
    "import os\n",
    "import pandas as pd\n",
    "\n",
    "def calculate_proactive_lifetime_extension_rate(log_path):\n",
    "    df = pd.read_csv(log_path)\n",
    "    df.columns = [\n",
    "        \"Time\", \"Node\", \"Destination\", \"Previous_LifeTime\", \"New_LifeTime\",\n",
    "        \"Previous_NextHop\", \"New_NextHop\", \"Previous_HopCount\", \"New_HopCount\"\n",
    "    ]\n",
    "\n",
    "    df[\"LifeTimeChange\"] = df[\"Previous_LifeTime\"] != df[\"New_LifeTime\"]\n",
    "    df[\"NextHopChange\"] = df[\"Previous_NextHop\"] != df[\"New_NextHop\"]\n",
    "    df[\"HopChange\"] = df[\"Previous_HopCount\"] != df[\"New_HopCount\"]\n",
    "    df[\"ChangeType\"] = df.apply(\n",
    "        lambda row: \"Hop+NextHop\" if row[\"HopChange\"] and row[\"NextHopChange\"]\n",
    "        else \"HopOnly\" if row[\"HopChange\"]\n",
    "        else \"NextHopOnly\" if row[\"NextHopChange\"]\n",
    "        else \"LifeTimeOnly\" if row[\"LifeTimeChange\"]\n",
    "        else \"NoChange\",\n",
    "        axis=1\n",
    "    )\n",
    "\n",
    "    lt_only_df = df[df[\"ChangeType\"] == \"LifeTimeOnly\"].copy()\n",
    "    lt_only_df[\"TimeToExpire\"] = lt_only_df[\"Previous_LifeTime\"] - lt_only_df[\"Time\"]\n",
    "    proactive = lt_only_df[lt_only_df[\"TimeToExpire\"] <= 3.0]\n",
    "\n",
    "    rate = len(proactive) / len(lt_only_df) * 100 if len(lt_only_df) > 0 else 0.0\n",
    "    return rate\n",
    "\n",
    "xnodes = [0, 4, 6, 7, 9, 10, 11, 17, 19, 20]\n",
    "nodes = [6, 7, 17, 18, 21, 22, 24, 26, 27, 29]\n",
    "base_path = \"C:/Users/Choe JongHyeon/Desktop/Applied Science/시뮬레이션 결과/Lifetime 결과_V02/중밀도/중속/\"\n",
    "\n",
    "print(\"=== 선제 Lifetime 연장률 (3초 이내) ===\")\n",
    "for node_id in nodes:\n",
    "    legacy_log = os.path.join(base_path, \"기존\", str(node_id), \"aodv_routing_log.csv\")\n",
    "    proposed_log = os.path.join(base_path, \"제안\", str(node_id), \"aodv_routing_log.csv\")\n",
    "\n",
    "    if not os.path.exists(legacy_log) or not os.path.exists(proposed_log):\n",
    "        continue\n",
    "\n",
    "    legacy_rate = calculate_proactive_lifetime_extension_rate(legacy_log)\n",
    "    proposed_rate = calculate_proactive_lifetime_extension_rate(proposed_log)\n",
    "\n",
    "    print(f\"[Node {node_id}] Legacy: {legacy_rate:.2f}% | Proposed: {proposed_rate:.2f}%\")\n"
   ]
  }
 ],
 "metadata": {
  "kernelspec": {
   "display_name": "base",
   "language": "python",
   "name": "python3"
  },
  "language_info": {
   "codemirror_mode": {
    "name": "ipython",
    "version": 3
   },
   "file_extension": ".py",
   "mimetype": "text/x-python",
   "name": "python",
   "nbconvert_exporter": "python",
   "pygments_lexer": "ipython3",
   "version": "3.11.7"
  }
 },
 "nbformat": 4,
 "nbformat_minor": 2
}
