version https://git-lfs.github.com/spec/v1
oid sha256:2d1220045e4d3a2a3806afa26c09a8870735a9cf4dfe3440a6ee6332e3241130
size 2533841
