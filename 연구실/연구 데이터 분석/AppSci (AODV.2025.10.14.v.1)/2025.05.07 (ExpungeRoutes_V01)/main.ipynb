version https://git-lfs.github.com/spec/v1
oid sha256:a44a2c10f2d5dbab332709ca6f4f1f92a0492ffb0784cb9dc1cedb5dc55ff3f0
size 1406198
