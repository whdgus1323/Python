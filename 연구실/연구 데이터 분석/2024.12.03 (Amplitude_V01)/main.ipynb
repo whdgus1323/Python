{
 "cells": [
  {
   "cell_type": "code",
   "execution_count": null,
   "metadata": {},
   "outputs": [
    {
     "ename": "",
     "evalue": "",
     "output_type": "error",
     "traceback": [
      "\u001b[1;31m현재 셀 또는 이전 셀에서 코드를 실행하는 동안 Kernel이 충돌했습니다. \n",
      "\u001b[1;31m셀의 코드를 검토하여 가능한 오류 원인을 식별하세요. \n",
      "\u001b[1;31m자세한 내용을 보려면 <a href='https://aka.ms/vscodeJupyterKernelCrash'>여기</a>를 클릭하세요. \n",
      "\u001b[1;31m자세한 내용은 Jupyter <a href='command:jupyter.viewOutput'>로그</a>를 참조하세요."
     ]
    }
   ],
   "source": [
    "import numpy as np\n",
    "import matplotlib.pyplot as plt\n",
    "\n",
    "# Parameters\n",
    "t = np.linspace(0, 1, 1000)  # Time from 0 to 1 second, 1000 samples\n",
    "f = 5  # Frequency in Hz\n",
    "phi_0 = np.pi / 4  # Initial phase in radians\n",
    "s_t = np.sin(2 * np.pi * 1 * t)  # Amplitude-modulating signal (1 Hz sine wave)\n",
    "x_t = s_t * np.exp(1j * (2 * np.pi * f * t + phi_0))  # Complex signal\n",
    "\n",
    "# Real and imaginary parts of the output signal\n",
    "real_x_t = np.real(x_t)\n",
    "imag_x_t = np.imag(x_t)\n",
    "\n",
    "# Plotting\n",
    "plt.figure(figsize=(12, 8))\n",
    "\n",
    "# Plot the amplitude-modulating signal\n",
    "plt.subplot(3, 1, 1)\n",
    "plt.plot(t, s_t, label=r\"$s(t)$ (Amplitude Signal)\")\n",
    "plt.title(\"Input Amplitude Signal $s(t)$\")\n",
    "plt.xlabel(\"Time (s)\")\n",
    "plt.ylabel(\"Amplitude\")\n",
    "plt.grid()\n",
    "plt.legend()\n",
    "\n",
    "# Plot the real part of the output signal\n",
    "plt.subplot(3, 1, 2)\n",
    "plt.plot(t, real_x_t, label=r\"Re[$x(t)$] (Real Part)\", color='orange')\n",
    "plt.title(\"Output Signal Real Part\")\n",
    "plt.xlabel(\"Time (s)\")\n",
    "plt.ylabel(\"Amplitude\")\n",
    "plt.grid()\n",
    "plt.legend()\n",
    "\n",
    "# Plot the imaginary part of the output signal\n",
    "plt.subplot(3, 1, 3)\n",
    "plt.plot(t, imag_x_t, label=r\"Im[$x(t)$] (Imaginary Part)\", color='green')\n",
    "plt.title(\"Output Signal Imaginary Part\")\n",
    "plt.xlabel(\"Time (s)\")\n",
    "plt.ylabel(\"Amplitude\")\n",
    "plt.grid()\n",
    "plt.legend()\n",
    "\n",
    "plt.tight_layout()\n",
    "plt.show()\n"
   ]
  },
  {
   "cell_type": "code",
   "execution_count": 2,
   "metadata": {},
   "outputs": [
    {
     "name": "stderr",
     "output_type": "stream",
     "text": [
      "C:\\Users\\Choe JongHyeon\\AppData\\Local\\Temp\\ipykernel_28760\\2518695830.py:32: MatplotlibDeprecationWarning: Setting data with a non sequence type is deprecated since 3.7 and will be remove two minor releases later\n",
      "  point.set_data(signal[frame].real, signal[frame].imag)  # Update point\n"
     ]
    },
    {
     "data": {
      "image/png": "[encoded data removed]",
      "text/plain": [
       "<Figure size 600x600 with 1 Axes>"
      ]
     },
     "metadata": {},
     "output_type": "display_data"
    }
   ],
   "source": [
    "import numpy as np\n",
    "import matplotlib.pyplot as plt\n",
    "import matplotlib.animation as animation\n",
    "\n",
    "# Parameters for the signal\n",
    "f = 1  # Frequency (1 Hz)\n",
    "phi_0 = np.pi / 4  # Initial phase\n",
    "t = np.linspace(0, 1, 100)  # Time range (1 second, 100 frames)\n",
    "\n",
    "# Generate complex signal\n",
    "theta = 2 * np.pi * f * t + phi_0\n",
    "signal = np.exp(1j * theta)\n",
    "\n",
    "# Set up the figure and axis\n",
    "fig, ax = plt.subplots(figsize=(6, 6))\n",
    "ax.set_xlim(-1.5, 1.5)\n",
    "ax.set_ylim(-1.5, 1.5)\n",
    "ax.set_xlabel('Real')\n",
    "ax.set_ylabel('Imaginary')\n",
    "ax.axhline(0, color='gray', linewidth=0.5)\n",
    "ax.axvline(0, color='gray', linewidth=0.5)\n",
    "ax.grid()\n",
    "\n",
    "# Initialize plot elements\n",
    "point, = ax.plot([], [], 'ro')  # Rotating point\n",
    "line, = ax.plot([], [], 'b-', alpha=0.7)  # Trajectory line\n",
    "trajectory = []\n",
    "\n",
    "# Animation update function\n",
    "def update(frame):\n",
    "    global trajectory\n",
    "    point.set_data(signal[frame].real, signal[frame].imag)  # Update point\n",
    "    trajectory.append([signal[frame].real, signal[frame].imag])  # Add to trajectory\n",
    "    line.set_data(*zip(*trajectory))  # Update trajectory line\n",
    "    return point, line\n",
    "\n",
    "# Create animation\n",
    "ani = animation.FuncAnimation(fig, update, frames=len(t), interval=50, blit=True)\n",
    "\n",
    "# Show the animation\n",
    "plt.show()\n"
   ]
  }
 ],
 "metadata": {
  "kernelspec": {
   "display_name": "base",
   "language": "python",
   "name": "python3"
  },
  "language_info": {
   "codemirror_mode": {
    "name": "ipython",
    "version": 3
   },
   "file_extension": ".py",
   "mimetype": "text/x-python",
   "name": "python",
   "nbconvert_exporter": "python",
   "pygments_lexer": "ipython3",
   "version": "3.11.7"
  }
 },
 "nbformat": 4,
 "nbformat_minor": 2
}
