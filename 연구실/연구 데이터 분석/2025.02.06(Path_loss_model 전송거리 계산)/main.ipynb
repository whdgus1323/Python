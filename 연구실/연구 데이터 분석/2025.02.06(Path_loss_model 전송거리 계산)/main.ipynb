{
 "cells": [
  {
   "cell_type": "code",
   "execution_count": 31,
   "metadata": {},
   "outputs": [
    {
     "data": {
      "text/plain": [
       "44.16772281097825"
      ]
     },
     "execution_count": 31,
     "metadata": {},
     "output_type": "execute_result"
    }
   ],
   "source": [
    "import numpy as np\n",
    "\n",
    "def calculate_vanet_distance(tx_power_mW, sensitivity_dBm, freq_GHz, k_factor_dB, obstacle_loss_db, obstacle_distance_m):\n",
    "    c = 3e8\n",
    "    \n",
    "    tx_power_dBm = 10 * np.log10(tx_power_mW)\n",
    "    freq_Hz = freq_GHz * 1e9\n",
    "    \n",
    "    obstacle_loss_total = obstacle_loss_db * obstacle_distance_m\n",
    "    PL_max = tx_power_dBm - sensitivity_dBm - k_factor_dB - obstacle_loss_total\n",
    "    d = 10 ** ((PL_max - 20 * np.log10(freq_Hz) - 20 * np.log10(4 * np.pi / c)) / 20)\n",
    "    \n",
    "    return d\n",
    "\n",
    "tx_power_mW = 15\n",
    "sensitivity_dBm = -85  \n",
    "freq_GHz = 5.9  \n",
    "k_factor_dB = 8  \n",
    "\n",
    "obstacle_loss_db_per_cut = 9  \n",
    "obstacle_loss_db_per_meter = 0.4  \n",
    "obstacle_distance_m = 20\n",
    "\n",
    "total_obstacle_loss = obstacle_loss_db_per_cut + (obstacle_loss_db_per_meter * obstacle_distance_m)\n",
    "\n",
    "max_distance_vanet = calculate_vanet_distance(tx_power_mW, sensitivity_dBm, freq_GHz, k_factor_dB, obstacle_loss_db_per_meter, obstacle_distance_m)\n",
    "max_distance_vanet\n"
   ]
  }
 ],
 "metadata": {
  "kernelspec": {
   "display_name": "base",
   "language": "python",
   "name": "python3"
  },
  "language_info": {
   "codemirror_mode": {
    "name": "ipython",
    "version": 3
   },
   "file_extension": ".py",
   "mimetype": "text/x-python",
   "name": "python",
   "nbconvert_exporter": "python",
   "pygments_lexer": "ipython3",
   "version": "3.11.7"
  }
 },
 "nbformat": 4,
 "nbformat_minor": 2
}
