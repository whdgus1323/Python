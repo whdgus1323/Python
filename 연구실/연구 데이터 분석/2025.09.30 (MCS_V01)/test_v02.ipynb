version https://git-lfs.github.com/spec/v1
oid sha256:65739b38035f89d9d83d91b892168f1f1dc39b911c4303ee95003b3f536c0f22
size 222974
