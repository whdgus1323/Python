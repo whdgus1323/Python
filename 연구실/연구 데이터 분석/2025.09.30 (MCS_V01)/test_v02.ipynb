version https://git-lfs.github.com/spec/v1
oid sha256:55df72450a6cfc103fd6fbf706c77ae86f0f4ff156bbb8078b9a75be49efe204
size 317844
