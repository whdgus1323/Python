{
 "cells": [
  {
   "cell_type": "code",
   "execution_count": 1,
   "metadata": {},
   "outputs": [
    {
     "name": "stdout",
     "output_type": "stream",
     "text": [
      "Recursive DFS Result: [1, 2, 5, 6, 3, 4, 7]\n"
     ]
    }
   ],
   "source": [
    "def dfs_recursive(graph, node, visited, result):\n",
    "    visited[node] = True  # 방문 처리\n",
    "    result.append(node)  # 방문한 노드를 결과 리스트에 추가\n",
    "\n",
    "    # 현재 노드의 인접 노드 탐색\n",
    "    for neighbor in graph[node]:\n",
    "        if not visited[neighbor]:\n",
    "            dfs_recursive(graph, neighbor, visited, result)\n",
    "\n",
    "# 그래프 초기화 및 사용 예제\n",
    "graph = {\n",
    "    1: [2, 3, 4],\n",
    "    2: [5, 6],\n",
    "    3: [],\n",
    "    4: [7],\n",
    "    5: [],\n",
    "    6: [],\n",
    "    7: []\n",
    "}\n",
    "\n",
    "visited = [False] * (len(graph) + 1)  # 노드 개수만큼 False로 초기화\n",
    "result_recursive = []\n",
    "dfs_recursive(graph, 1, visited, result_recursive)\n",
    "\n",
    "print(\"Recursive DFS Result:\", result_recursive)\n"
   ]
  },
  {
   "cell_type": "code",
   "execution_count": 5,
   "metadata": {},
   "outputs": [
    {
     "name": "stdout",
     "output_type": "stream",
     "text": [
      "7\n",
      "[False, True, True, True, True, True, True, True]\n",
      "Iterative DFS Result: [1, 2, 5, 6, 3, 4, 7]\n"
     ]
    }
   ],
   "source": [
    "def dfs_iterative(graph, start):\n",
    "    visited = [False] * (len(graph) + 1)  # 방문 리스트\n",
    "    print(len(graph))\n",
    "    stack = [start]  # 스택 초기화\n",
    "    result_iterative = []  # 결과 저장\n",
    "\n",
    "    while stack:\n",
    "        node = stack.pop()  # 스택의 마지막 원소 꺼냄\n",
    "        if not visited[node]:\n",
    "            visited[node] = True\n",
    "            result_iterative.append(node)  # 방문한 노드 추가\n",
    "            \n",
    "            # 인접 노드를 스택에 추가 (역순으로 삽입하여 순서 맞춤)\n",
    "            for neighbor in sorted(graph[node], reverse=True):\n",
    "                if not visited[neighbor]:\n",
    "                    stack.append(neighbor)\n",
    "\n",
    "    return result_iterative\n",
    "\n",
    "# 그래프 초기화 및 사용 예제\n",
    "graph = {\n",
    "    1: [2, 3, 4],\n",
    "    2: [5, 6],\n",
    "    3: [],\n",
    "    4: [7],\n",
    "    5: [],\n",
    "    6: [],\n",
    "    7: []\n",
    "}\n",
    "\n",
    "result_iterative = dfs_iterative(graph, 1)\n",
    "print(\"Iterative DFS Result:\", result_iterative)\n"
   ]
  },
  {
   "cell_type": "code",
   "execution_count": 19,
   "metadata": {},
   "outputs": [],
   "source": [
    "stack = [1]\n"
   ]
  },
  {
   "cell_type": "code",
   "execution_count": 8,
   "metadata": {},
   "outputs": [
    {
     "name": "stdout",
     "output_type": "stream",
     "text": [
      "1\n",
      "1\n",
      "1\n",
      "2\n",
      "2\n",
      "4\n",
      "Iterative DFS Result: [1, 2, 5, 6, 3, 4, 7]\n"
     ]
    }
   ],
   "source": [
    "def dfs(graph, start) :\n",
    "    visited = [False] * (len(graph) + 1)\n",
    "    stack = [start]\n",
    "    result_interactive = []\n",
    "    \n",
    "    while stack:\n",
    "        node = stack.pop()\n",
    "        if not visited[node]:\n",
    "            visited[node] = True\n",
    "            result_interactive.append(node)\n",
    "            \n",
    "            for neighbor in sorted(graph[node], reverse=True) :\n",
    "                if not visited[neighbor] :\n",
    "                    stack.append(neighbor)\n",
    "    return result_interactive\n",
    "\n",
    "graph = {\n",
    "    1: [2, 3, 4],\n",
    "    2: [5, 6],\n",
    "    3: [],\n",
    "    4: [7],\n",
    "    5: [],\n",
    "    6: [],\n",
    "    7: []\n",
    "}\n",
    "\n",
    "result_iterative = dfs(graph, 1)\n",
    "(graph, 1)\n",
    "print(\"Iterative DFS Result:\", result_iterative)"
   ]
  }
 ],
 "metadata": {
  "kernelspec": {
   "display_name": "base",
   "language": "python",
   "name": "python3"
  },
  "language_info": {
   "codemirror_mode": {
    "name": "ipython",
    "version": 3
   },
   "file_extension": ".py",
   "mimetype": "text/x-python",
   "name": "python",
   "nbconvert_exporter": "python",
   "pygments_lexer": "ipython3",
   "version": "3.11.7"
  }
 },
 "nbformat": 4,
 "nbformat_minor": 2
}
