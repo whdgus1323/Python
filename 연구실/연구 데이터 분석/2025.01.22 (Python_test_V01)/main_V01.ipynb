{
 "cells": [
  {
   "cell_type": "code",
   "execution_count": 21,
   "metadata": {},
   "outputs": [],
   "source": [
    "graph = {\n",
    "    1:[2, 5, 6],\n",
    "    2:[3, 7],\n",
    "    3:[],\n",
    "    4:[],\n",
    "    5:[8],\n",
    "    6:[],\n",
    "    7:[],\n",
    "    8:[4]\n",
    "}"
   ]
  },
  {
   "cell_type": "code",
   "execution_count": 19,
   "metadata": {},
   "outputs": [],
   "source": [
    "def dsf(graph, start) :\n",
    "    visited = [False] * int(len(graph) + 1)\n",
    "    stack = [start]\n",
    "    result = []\n",
    "    \n",
    "    while stack :\n",
    "        node = stack.pop()\n",
    "        if not visited[node] :\n",
    "            visited[node] = True\n",
    "            result.append(node)\n",
    "            for neighbor in graph[node] :\n",
    "                if not visited[neighbor] :\n",
    "                    stack.append(neighbor)\n",
    "    return result"
   ]
  },
  {
   "cell_type": "code",
   "execution_count": 24,
   "metadata": {},
   "outputs": [
    {
     "data": {
      "text/plain": [
       "[1, 6, 5, 8, 4, 2, 7, 3]"
      ]
     },
     "execution_count": 24,
     "metadata": {},
     "output_type": "execute_result"
    }
   ],
   "source": [
    "dfs(graph, 1)"
   ]
  }
 ],
 "metadata": {
  "kernelspec": {
   "display_name": "base",
   "language": "python",
   "name": "python3"
  },
  "language_info": {
   "codemirror_mode": {
    "name": "ipython",
    "version": 3
   },
   "file_extension": ".py",
   "mimetype": "text/x-python",
   "name": "python",
   "nbconvert_exporter": "python",
   "pygments_lexer": "ipython3",
   "version": "3.11.7"
  }
 },
 "nbformat": 4,
 "nbformat_minor": 2
}
