{
 "cells": [
  {
   "cell_type": "code",
   "execution_count": 1,
   "metadata": {},
   "outputs": [
    {
     "name": "stdout",
     "output_type": "stream",
     "text": [
      "CSV file saved successfully: PDR_file/Existing_vs_Proposed_Data.csv\n"
     ]
    }
   ],
   "source": [
    "import pandas as pd\n",
    "\n",
    "categories = ['High Speed', 'Medium Speed', 'Low Speed']\n",
    "density_levels = ['High Density (400 vehicles)', 'Medium Density (300 vehicles)', 'Low Density (200 vehicles)']\n",
    "\n",
    "existing_data = {\n",
    "    'Density': density_levels,\n",
    "    'High_Existing': [75.66666667, 75.3, 76.7],\n",
    "    'Medium_Existing': [75.77777778, 81.4, 82.8],\n",
    "    'Low_Existing': [88.11111111, 91.8, 92.6]\n",
    "}\n",
    "\n",
    "proposed_data = {\n",
    "    'Density': density_levels,\n",
    "    'High_Proposed': [82.66666667, 89, 79.8],\n",
    "    'Medium_Proposed': [88.11111111, 88.6, 89.3],\n",
    "    'Low_Proposed': [91.77777778, 95.6, 96.8]\n",
    "}\n",
    "\n",
    "df_existing = pd.DataFrame(existing_data)\n",
    "df_proposed = pd.DataFrame(proposed_data)\n",
    "\n",
    "df_combined = pd.merge(df_existing, df_proposed, on=\"Density\")\n",
    "\n",
    "csv_filename = \"PDR_file/Existing_vs_Proposed_Data.csv\"\n",
    "df_combined.to_csv(csv_filename, index=False, encoding=\"utf-8-sig\")\n",
    "\n",
    "print(f\"CSV file saved successfully: {csv_filename}\")\n"
   ]
  }
 ],
 "metadata": {
  "kernelspec": {
   "display_name": "base",
   "language": "python",
   "name": "python3"
  },
  "language_info": {
   "codemirror_mode": {
    "name": "ipython",
    "version": 3
   },
   "file_extension": ".py",
   "mimetype": "text/x-python",
   "name": "python",
   "nbconvert_exporter": "python",
   "pygments_lexer": "ipython3",
   "version": "3.11.7"
  }
 },
 "nbformat": 4,
 "nbformat_minor": 2
}
