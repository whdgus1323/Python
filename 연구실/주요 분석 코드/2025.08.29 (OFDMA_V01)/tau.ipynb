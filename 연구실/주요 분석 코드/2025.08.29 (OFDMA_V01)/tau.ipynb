{
 "cells": [
  {
   "cell_type": "code",
   "execution_count": 2,
   "id": "7c517b94",
   "metadata": {},
   "outputs": [],
   "source": [
    "# tau.py — strict port of MATLAB tau.m\n",
    "import math\n",
    "\n",
    "def tau(t, n, W0, m, M):\n",
    "    # p=1-(1-t/M)^(n-1);\n",
    "    p = 1.0 - (1.0 - t/float(M))**(n - 1)\n",
    "\n",
    "    # X0 = (-1*M/2)*floor(W0/M)^2 + (W0-M/2)*floor(W0/M);\n",
    "    f0 = math.floor(W0/float(M))\n",
    "    X0 = (-1.0*float(M)/2.0)*(f0**2) + (W0 - float(M)/2.0)*f0\n",
    "\n",
    "    # for k = 1:m\n",
    "    #   W(k) = (W0+1)*2^k-1;   % correct (20.07.24)\n",
    "    #   X(k) = (-1*M/2)*floor(W(k)/M)^2 + (W(k)-M/2)*floor(W(k)/M);\n",
    "    # end\n",
    "    X = []\n",
    "    for k in range(1, m+1):\n",
    "        Wk = (W0 + 1)*(2**k) - 1\n",
    "        fk = math.floor(Wk/float(M))\n",
    "        Xk = (-1.0*float(M)/2.0)*(fk**2) + (Wk - float(M)/2.0)*fk\n",
    "        X.append(Xk)\n",
    "\n",
    "    # switch m ... SUM\n",
    "    if m == 0:\n",
    "        pass  # no SUM used in this branch\n",
    "    elif m == 1:\n",
    "        SUM = 0.0\n",
    "    elif m == 2:\n",
    "        SUM = X[0]*p/2.0\n",
    "    elif m == 3:\n",
    "        SUM = (X[1]*(p**2))/4.0 + (X[0]*p)/2.0\n",
    "    elif m == 4:\n",
    "        SUM = (X[2]*(p**3))/8.0 + (X[1]*(p**2))/4.0 + (X[0]*p)/2.0\n",
    "    elif m == 5:\n",
    "        SUM = (X[3]*(p**4))/16.0 + (X[2]*(p**3))/8.0 + (X[1]*(p**2))/4.0 + (X[0]*p)/2.0\n",
    "    elif m == 6:\n",
    "        SUM = (X[4]*(p**5))/32.0 + (X[3]*(p**4))/16.0 + (X[2]*(p**3))/8.0 + (X[1]*(p**2))/4.0 + (X[0]*p)/2.0\n",
    "    else:\n",
    "        raise RuntimeError('this backoff stage value is not supported.')\n",
    "\n",
    "    # switch m ... result\n",
    "    if m == 0:\n",
    "        # 마지막 대입이 유효 (주석된 대안식은 무시, 원본과 동일)\n",
    "        result = t - (W0 + 1.0)/(W0 + 1.0 + X0)\n",
    "    else:\n",
    "        Xm = X[m-1]\n",
    "        result = t - (W0 + 1.0)/( W0 + 1.0 + (1.0-p)*X0 + (1.0-p)*SUM + Xm*((p/2.0)**m) )\n",
    "    return result\n"
   ]
  }
 ],
 "metadata": {
  "kernelspec": {
   "display_name": "base",
   "language": "python",
   "name": "python3"
  },
  "language_info": {
   "codemirror_mode": {
    "name": "ipython",
    "version": 3
   },
   "file_extension": ".py",
   "mimetype": "text/x-python",
   "name": "python",
   "nbconvert_exporter": "python",
   "pygments_lexer": "ipython3",
   "version": "3.11.7"
  }
 },
 "nbformat": 4,
 "nbformat_minor": 5
}
