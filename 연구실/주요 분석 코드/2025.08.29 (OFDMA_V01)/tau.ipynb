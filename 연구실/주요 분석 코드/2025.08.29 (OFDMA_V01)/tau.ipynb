version https://git-lfs.github.com/spec/v1
oid sha256:8ad89c66ca1e5b948cb6cde90c642b8b14e52dc8d89a872eff71e72a258c664b
size 2586
