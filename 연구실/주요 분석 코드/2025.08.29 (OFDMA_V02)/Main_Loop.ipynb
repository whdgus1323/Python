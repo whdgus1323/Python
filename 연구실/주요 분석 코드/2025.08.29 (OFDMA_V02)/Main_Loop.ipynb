{
 "cells": [
  {
   "cell_type": "code",
   "execution_count": 94,
   "id": "2ca00725",
   "metadata": {},
   "outputs": [],
   "source": [
    "import numpy as np\n",
    "import math, time"
   ]
  },
  {
   "cell_type": "code",
   "execution_count": 92,
   "id": "799d6744",
   "metadata": {},
   "outputs": [
    {
     "name": "stdout",
     "output_type": "stream",
     "text": [
      "8.0\n",
      "64.0\n",
      "4096.0\n",
      "16777216.0\n",
      "281474976710656.0\n",
      "7.922816251426434e+28\n",
      "6.277101735386681e+57\n",
      "3.940200619639448e+115\n",
      "1.552518092300709e+231\n"
     ]
    }
   ],
   "source": [
    "rows, cols = 30, max(8, 4) + 2\n",
    "Tab_OCW = np.zeros((rows, cols), dtype=float)\n",
    "Tab_OCW[:,0] = np.linspace(0, 512, rows)  # STA 수 축\n",
    "for c in range(1, cols):\n",
    "    print(8.0 ** (2**(c - 1)))\n",
    "    Tab_OCW[:,c] = 8.0 * (2**(c - 1))       # 예시값: 8,16,32,..."
   ]
  },
  {
   "cell_type": "code",
   "execution_count": 111,
   "id": "4710ef43",
   "metadata": {},
   "outputs": [],
   "source": [
    "i, start_t = 1, time.time()\n",
    "rng = np.random.default_rng(0)"
   ]
  },
  {
   "cell_type": "code",
   "execution_count": 115,
   "id": "057bef3d",
   "metadata": {},
   "outputs": [],
   "source": [
    "unassoc_in_number = 2\n",
    "unassoc_out_number = 1\n",
    "\n",
    "next_unassoc_in_time = 200\n",
    "next_unassoc_out_time = 400\n",
    "\n",
    "N_STA= 20\n",
    "STA_Type = np.zeros(N_STA)\n",
    "\n",
    "Mode_UORA = 0\n",
    "Mode_OBO_BEB = True\n",
    "Mode_OBO_XIXD = False\n",
    "Opt_Random_N_RA_RU_0 = False\n",
    "\n"
   ]
  },
  {
   "cell_type": "code",
   "execution_count": 121,
   "id": "46cff68d",
   "metadata": {},
   "outputs": [],
   "source": [
    "# RU/OCW 테이블\n",
    "N_RU = 16\n",
    "N_RA_RU_0    = 8     # assoc용 랜덤접근 RU 수\n",
    "N_RA_RU_2045 = 4     # unassoc용 랜덤접근 RU 수\n",
    "RU_AID = np.zeros(N_RU, dtype=int)   # 0 또는 2045 등 AID 맵 (필요시 수정)"
   ]
  },
  {
   "cell_type": "code",
   "execution_count": 120,
   "id": "79308bb8",
   "metadata": {},
   "outputs": [],
   "source": [
    "# CW/alpha\n",
    "CWmin, CWmax = 8.0, 1024.0\n",
    "Init_alpha, Min_alpha, Max_alpha = 1.0, 0.05, 4.0\n",
    "Inc, Dec = 0.10, 0.10\n",
    "alpha_g = 1.0  # Mode 2/3용 글로벌 알파"
   ]
  },
  {
   "cell_type": "code",
   "execution_count": 114,
   "id": "48f99942",
   "metadata": {},
   "outputs": [],
   "source": [
    "L_MPDU              = np.full(N_STA, 2000.0)\n",
    "MCS                 = np.full(N_STA, 5, dtype=int)\n",
    "STA_CWmin           = np.full(N_STA, 8.0, dtype=float)\n",
    "STA_CWmax           = np.full(N_STA, 1024.0, dtype=float)\n",
    "STA_CW              = np.full(N_STA, 8.0, dtype=float)\n",
    "STA_OBO             = np.floor(STA_CW * rng.random(N_STA))\n",
    "STA_Assigned_RU     = np.zeros(N_STA, dtype=int)\n",
    "STA_Assoc_Delay     = np.zeros((N_STA, 3), dtype=float)\n",
    "n_tf                = np.zeros(N_STA, dtype=float)"
   ]
  },
  {
   "cell_type": "code",
   "execution_count": 124,
   "id": "830bd6f5",
   "metadata": {},
   "outputs": [],
   "source": [
    "Sim_Rst = np.zeros((N_STA,4), dtype=float) "
   ]
  },
  {
   "cell_type": "code",
   "execution_count": null,
   "id": "7ac36266",
   "metadata": {},
   "outputs": [],
   "source": [
    "while i <= 20000 :\n",
    "    if next_unassoc_in_time <= i and unassoc_in_number > 0 :\n",
    "        STA_ID_disable = np.where(STA_Type == -1)[0]\n",
    "        if len(STA_ID_disable) == unassoc_in_number :\n",
    "            STA_Type[STA_ID_disable] = 0\n",
    "            next_unassoc_in_time = i + 500\n",
    "            print('1')\n",
    "        else :\n",
    "            print('2')\n",
    "            old_N = N_STA\n",
    "            N_STA += int(unassoc_in_number)\n",
    "            next_unassoc_in_time = i + 500\n",
    "            \n",
    "            STA_Type            = np.concatenate([STA_Type, np.zeros(int(unassoc_in_number), dtype=int)])\n",
    "            L_MPDU              = np.concatenate([L_MPDU, np.full(int(unassoc_in_number), 2000.0)])\n",
    "            MCS                 = np.concatenate([MCS, np.full(int(unassoc_in_number), 5, dtype=int)])\n",
    "            STA_CWmin           = np.concatenate([STA_CWmin, np.full(int(unassoc_in_number), 8.0, dtype=float)])\n",
    "            STA_CWmax           = np.concatenate([STA_CWmax, np.full(int(unassoc_in_number), 1024.0, dtype=float)])\n",
    "            STA_CW              = np.concatenate([STA_CW, np.full(int(unassoc_in_number), 8.0, dtype=float)])\n",
    "            STA_OBO             = np.concatenate([STA_OBO, np.floor(8.0 * rng.random(int(unassoc_in_number)))])\n",
    "            STA_Assigned_RU     = np.concatenate([STA_Assigned_RU, np.zeros(int(unassoc_in_number), dtype=int)])\n",
    "            n_tf                = np.concatenate([n_tf, np.zeros(int(unassoc_in_number), dtype=float)])\n",
    "            Sim_Rst             = np.vstack([Sim_Rst, np.zeros((int(unassoc_in_number), 4), dtype=float)])\n",
    "            add_delay = np.zeros((int(unassoc_in_number), 3), dtype=float)\n",
    "            add_delay[:, 0] = (next_unassoc_in_time - 500)\n",
    "\n",
    "            if Mode_UORA in (4, 5, 6, 7, 8) :\n",
    "                alpha = np.concatenate([alpha, np.full(int(unassoc_in_number), 1.0, dtype=float)])\n",
    "                if Mode_UORA in (5, 6, 7, 8) :\n",
    "                    Succ = np.vstack([Succ, np.zeros((int(unassoc_in_number), 2), dtype=float)])\n",
    "        \n",
    "    if next_unassoc_out_time <= i and unassoc_out_number > 0 :\n",
    "        print('3')\n",
    "        STA_ID_Assoc = np.where(STA_Type == 1)[0]\n",
    "        Disable_STA_ID = []\n",
    "        while len(Disable_STA_ID) < int(unassoc_out_number) and len(STA_ID_Assoc) > 0:\n",
    "            pick = rng.choice(STA_ID_Assoc)\n",
    "            if pick not in Disable_STA_ID:\n",
    "                Disable_STA_ID.append(pick)\n",
    "                STA_Type[pick] = -1\n",
    "        next_unassoc_out_time = i + 500\n",
    "    \n",
    "    STA_ID_Unassoc  = np.where(STA_Type == 0)[0]\n",
    "    STA_ID_Assoc    = np.where(STA_Type == 1)[0]\n",
    "\n",
    "    if Mode_UORA in (0, 9) :\n",
    "        if Opt_Random_N_RA_RU_0:\n",
    "            N_Random_RA_RU_0 = int(math.ceil(rng.random() * N_RA_RU_0))\n",
    "            if STA_ID_Unassoc.size:\n",
    "                STA_OBO[STA_ID_Unassoc] -= N_RA_RU_2045\n",
    "            if STA_ID_Assoc.size:\n",
    "                STA_OBO[STA_ID_Assoc] -= N_Random_RA_RU_0\n",
    "        else:\n",
    "            if STA_ID_Unassoc.size:\n",
    "                STA_OBO[STA_ID_Unassoc] -= N_RA_RU_2045\n",
    "            if STA_ID_Assoc.all:\n",
    "                STA_OBO[STA_ID_Assoc] -= N_RA_RU_0\n",
    "\n",
    "    elif Mode_UORA == 1:\n",
    "        raise RuntimeError('Mode_UORQ == 1 not supported in provided script')\n",
    "\n",
    "    elif Mode_UORA == 2:\n",
    "        STA_OBO -= alpha_g * N_RU\n",
    "\n",
    "    elif Mode_UORA == 3:\n",
    "        STA_OBO -= alpha_g * N_RU\n",
    "    \n",
    "    elif Mode_UORA in (4, 5, 6, 7, 8) :\n",
    "        if STA_ID_Unassoc.size:\n",
    "            STA_OBO[STA_ID_Unassoc] -= alpha[STA_ID_Unassoc] * N_RA_RU_2045\n",
    "\n",
    "        if STA_ID_Assoc.size:\n",
    "            if Opt_Random_N_RA_RU_0:\n",
    "                NR = N_RA_RU_0\n",
    "            else :\n",
    "                NR = N_RA_RU_0\n",
    "            STA_OBO[STA_ID_Assoc] -= alpha[STA_ID_Assoc] * NR\n",
    "    i = i+1"
   ]
  }
 ],
 "metadata": {
  "kernelspec": {
   "display_name": "base",
   "language": "python",
   "name": "python3"
  },
  "language_info": {
   "codemirror_mode": {
    "name": "ipython",
    "version": 3
   },
   "file_extension": ".py",
   "mimetype": "text/x-python",
   "name": "python",
   "nbconvert_exporter": "python",
   "pygments_lexer": "ipython3",
   "version": "3.11.7"
  }
 },
 "nbformat": 4,
 "nbformat_minor": 5
}
