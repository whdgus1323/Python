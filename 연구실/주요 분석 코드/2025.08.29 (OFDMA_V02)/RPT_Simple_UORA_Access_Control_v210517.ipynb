{
 "cells": [
  {
   "cell_type": "code",
   "execution_count": 1,
   "id": "d2a9bf30",
   "metadata": {},
   "outputs": [],
   "source": [
    "import numpy as np\n",
    "import math\n",
    "import time\n",
    "import matplotlib.pyplot as plt"
   ]
  },
  {
   "cell_type": "code",
   "execution_count": null,
   "id": "4b68afd6",
   "metadata": {},
   "outputs": [],
   "source": [
    "List_Seed = np.arange(1731, 1732)"
   ]
  },
  {
   "cell_type": "code",
   "execution_count": null,
   "id": "7ce3ab27",
   "metadata": {},
   "outputs": [],
   "source": [
    "OCWmin = 7\n",
    "OCWmax = 31\n",
    "Mode_UORA = 9\n",
    "\n",
    "N_unassoc_In = 5\n",
    "T_unassoc_In = 0.0\n",
    "N_unassoc_Out = 2\n",
    "T_unassoc_Out = 4.0\n",
    "N_STAs_Assoc = 50\n",
    "\n",
    "Opt_Observation_TH      = 1\n",
    "Opt_Observation_Delay   = 1\n",
    "Opt_Save_Per_STA_TH     = 1\n",
    "\n",
    "N_RU = 9\n",
    "N_RA_RU_0 = 8\n",
    "N_RA_RU_2048 = N_RU - N_RA_RU_0\n",
    "Opt_Random_N_RA_RU_0 = 0\n",
    "\n",
    "N_slot_total = 1111112*6"
   ]
  },
  {
   "cell_type": "code",
   "execution_count": 91,
   "id": "e12e5270",
   "metadata": {},
   "outputs": [],
   "source": [
    "BW = 20\n",
    "N_ss = 1\n",
    "N_bp = np.array([1,2,2,4,4,6,6,6,8,8,10,10], dtype=float) # per subcarrier\n",
    "Rcod = np.array([1/2,1/2,3/4,1/2,3/4,2/3,3/4,5/6,3/4,5/6,3/4,5/6], dtype=float)\n",
    "T_dft = 12.8e-6\n",
    "T_gi  = 1.6e-6"
   ]
  },
  {
   "cell_type": "code",
   "execution_count": 114,
   "id": "5de67916",
   "metadata": {},
   "outputs": [],
   "source": [
    "def ru_tones_by_count(N_RU) :\n",
    "    print('Test')"
   ]
  },
  {
   "cell_type": "code",
   "execution_count": null,
   "id": "62b50772",
   "metadata": {},
   "outputs": [],
   "source": [
    "def run_once(seed) :\n",
    "    import numpy as np\n",
    "    rng = np.random.default_rng(seed)\n",
    "    \n",
    "    if Opt_Observation_TH:\n",
    "        Observation_Period = 100000\n",
    "        log_slot_time_SUC = [0]\n",
    "        log_SUC = [0]\n",
    "        Next_Observation_Time_TH = Observation_Period\n",
    "        \n",
    "    else :\n",
    "        Observation_Period = None\n",
    "        log_slot_time_SUC = []\n",
    "        log_SUC = []\n",
    "        Next_Observation_Time_TH = None\n",
    "\n",
    "    if Opt_Observation_Delay:\n",
    "        Observation_Period_Delay = 1000\n",
    "        Next_Observation_Time_Delay = Observation_Period_Delay\n",
    "\n",
    "    else :\n",
    "        Observation_Period_Delay = None\n",
    "        Next_Observation_Time_Delay = None\n",
    "    \n",
    "    if Opt_Save_Per_STA_TH :\n",
    "        Result_Per_TH = np.full((int(N_STAs_Assoc), 1), np.nan, dtype=float)\n",
    "    else :\n",
    "        Result_Per_TH = None\n",
    "    \n",
    "    RU_AID = np.zeros(N_RU, dtype=int) # RU 개수 만큼 0으로 aid 생성\n",
    "    if N_RA_RU_0 + N_RA_RU_2048 != N_RU:\n",
    "        raise RuntimeError('Wrong RA-RU configuration!')\n",
    "    \n",
    "    RU_AID[:N_RA_RU_0] = 0\n",
    "    RU_AID[N_RA_RU_0:] = 2048\n",
    "\n",
    "    N_sd = ru_tones_by_count(N_RU)\n",
    "    if N_RU != len(N_sd) :\n",
    "        raise RuntimeError('configuration is invalid!')\n",
    "    "
   ]
  },
  {
   "cell_type": "code",
   "execution_count": 44,
   "id": "6c74374c",
   "metadata": {},
   "outputs": [
    {
     "name": "stdout",
     "output_type": "stream",
     "text": [
      "Generator(PCG64)\n"
     ]
    }
   ],
   "source": [
    "if __name__ == '__main__' :\n",
    "    t0 = time.time()\n",
    "    out = run_once(List_Seed[0])"
   ]
  }
 ],
 "metadata": {
  "kernelspec": {
   "display_name": "base",
   "language": "python",
   "name": "python3"
  },
  "language_info": {
   "codemirror_mode": {
    "name": "ipython",
    "version": 3
   },
   "file_extension": ".py",
   "mimetype": "text/x-python",
   "name": "python",
   "nbconvert_exporter": "python",
   "pygments_lexer": "ipython3",
   "version": "3.11.7"
  }
 },
 "nbformat": 4,
 "nbformat_minor": 5
}
