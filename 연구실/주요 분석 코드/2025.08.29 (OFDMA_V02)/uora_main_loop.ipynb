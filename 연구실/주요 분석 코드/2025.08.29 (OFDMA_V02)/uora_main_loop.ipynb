version https://git-lfs.github.com/spec/v1
oid sha256:9595d5d748d4fe7e3a962d181ef1280833fed2a2f1e5667f4447d4fec704152d
size 23707
