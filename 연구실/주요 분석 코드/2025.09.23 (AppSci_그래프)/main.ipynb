version https://git-lfs.github.com/spec/v1
oid sha256:4afc481e1ccd9ad6838cf702c29ddd09bf7edc08c84f02a9031a97d64d5ed8f5
size 426185
