{
 "cells": [
  {
   "cell_type": "code",
   "execution_count": 2,
   "metadata": {},
   "outputs": [],
   "source": [
    "import pandas as pd\n",
    "import matplotlib.pyplot as plt"
   ]
  },
  {
   "cell_type": "code",
   "execution_count": 3,
   "metadata": {},
   "outputs": [],
   "source": [
    "file_path = 'aodv_routing_log_l.csv'\n",
    "df = pd.read_csv(file_path)"
   ]
  },
  {
   "cell_type": "code",
   "execution_count": 5,
   "metadata": {},
   "outputs": [
    {
     "data": {
      "text/html": [
       "<div>\n",
       "<style scoped>\n",
       "    .dataframe tbody tr th:only-of-type {\n",
       "        vertical-align: middle;\n",
       "    }\n",
       "\n",
       "    .dataframe tbody tr th {\n",
       "        vertical-align: top;\n",
       "    }\n",
       "\n",
       "    .dataframe thead th {\n",
       "        text-align: right;\n",
       "    }\n",
       "</style>\n",
       "<table border=\"1\" class=\"dataframe\">\n",
       "  <thead>\n",
       "    <tr style=\"text-align: right;\">\n",
       "      <th></th>\n",
       "      <th>Time</th>\n",
       "      <th>Node</th>\n",
       "      <th>Destination</th>\n",
       "      <th>Previous_LifeTime</th>\n",
       "      <th>New_LifeTime</th>\n",
       "      <th>Previous_NextHop</th>\n",
       "      <th>New_NextHop</th>\n",
       "      <th>Previous_HopCount</th>\n",
       "      <th>New_HopCount</th>\n",
       "    </tr>\n",
       "  </thead>\n",
       "  <tbody>\n",
       "    <tr>\n",
       "      <th>0</th>\n",
       "      <td>30.004394</td>\n",
       "      <td>node[35]</td>\n",
       "      <td>10.0.0.9</td>\n",
       "      <td>33.004394</td>\n",
       "      <td>35.524394</td>\n",
       "      <td>10.0.0.9</td>\n",
       "      <td>10.0.0.9</td>\n",
       "      <td>1</td>\n",
       "      <td>1</td>\n",
       "    </tr>\n",
       "    <tr>\n",
       "      <th>1</th>\n",
       "      <td>30.004394</td>\n",
       "      <td>node[265]</td>\n",
       "      <td>10.0.0.9</td>\n",
       "      <td>33.004394</td>\n",
       "      <td>35.524394</td>\n",
       "      <td>10.0.0.9</td>\n",
       "      <td>10.0.0.9</td>\n",
       "      <td>1</td>\n",
       "      <td>1</td>\n",
       "    </tr>\n",
       "    <tr>\n",
       "      <th>2</th>\n",
       "      <td>30.004394</td>\n",
       "      <td>node[243]</td>\n",
       "      <td>10.0.0.9</td>\n",
       "      <td>33.004394</td>\n",
       "      <td>35.524394</td>\n",
       "      <td>10.0.0.9</td>\n",
       "      <td>10.0.0.9</td>\n",
       "      <td>1</td>\n",
       "      <td>1</td>\n",
       "    </tr>\n",
       "    <tr>\n",
       "      <th>3</th>\n",
       "      <td>30.004394</td>\n",
       "      <td>node[130]</td>\n",
       "      <td>10.0.0.9</td>\n",
       "      <td>33.004394</td>\n",
       "      <td>35.524394</td>\n",
       "      <td>10.0.0.9</td>\n",
       "      <td>10.0.0.9</td>\n",
       "      <td>1</td>\n",
       "      <td>1</td>\n",
       "    </tr>\n",
       "    <tr>\n",
       "      <th>4</th>\n",
       "      <td>30.004394</td>\n",
       "      <td>node[102]</td>\n",
       "      <td>10.0.0.9</td>\n",
       "      <td>33.004394</td>\n",
       "      <td>35.524394</td>\n",
       "      <td>10.0.0.9</td>\n",
       "      <td>10.0.0.9</td>\n",
       "      <td>1</td>\n",
       "      <td>1</td>\n",
       "    </tr>\n",
       "  </tbody>\n",
       "</table>\n",
       "</div>"
      ],
      "text/plain": [
       "        Time       Node Destination  Previous_LifeTime  New_LifeTime  \\\n",
       "0  30.004394   node[35]    10.0.0.9          33.004394     35.524394   \n",
       "1  30.004394  node[265]    10.0.0.9          33.004394     35.524394   \n",
       "2  30.004394  node[243]    10.0.0.9          33.004394     35.524394   \n",
       "3  30.004394  node[130]    10.0.0.9          33.004394     35.524394   \n",
       "4  30.004394  node[102]    10.0.0.9          33.004394     35.524394   \n",
       "\n",
       "  Previous_NextHop New_NextHop  Previous_HopCount  New_HopCount  \n",
       "0         10.0.0.9    10.0.0.9                  1             1  \n",
       "1         10.0.0.9    10.0.0.9                  1             1  \n",
       "2         10.0.0.9    10.0.0.9                  1             1  \n",
       "3         10.0.0.9    10.0.0.9                  1             1  \n",
       "4         10.0.0.9    10.0.0.9                  1             1  "
      ]
     },
     "execution_count": 5,
     "metadata": {},
     "output_type": "execute_result"
    }
   ],
   "source": [
    "df.head()"
   ]
  },
  {
   "cell_type": "code",
   "execution_count": 4,
   "metadata": {},
   "outputs": [],
   "source": [
    "df['Time'] = pd.to_numeric(df['Time'])\n",
    "df['Previous_LifeTime'] = pd.to_numeric(df['Previous_LifeTime'])\n",
    "df['New_LifeTime'] = pd.to_numeric(df['New_LifeTime'])"
   ]
  },
  {
   "cell_type": "code",
   "execution_count": null,
   "metadata": {},
   "outputs": [],
   "source": [
    "df['Node'] = df['Node'].apply(lambda x : int(re.search(r'\\[()]')))"
   ]
  }
 ],
 "metadata": {
  "kernelspec": {
   "display_name": "base",
   "language": "python",
   "name": "python3"
  },
  "language_info": {
   "codemirror_mode": {
    "name": "ipython",
    "version": 3
   },
   "file_extension": ".py",
   "mimetype": "text/x-python",
   "name": "python",
   "nbconvert_exporter": "python",
   "pygments_lexer": "ipython3",
   "version": "3.11.7"
  }
 },
 "nbformat": 4,
 "nbformat_minor": 2
}
