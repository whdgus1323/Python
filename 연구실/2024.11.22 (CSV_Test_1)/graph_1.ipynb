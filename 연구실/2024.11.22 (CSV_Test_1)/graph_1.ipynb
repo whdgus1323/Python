{
 "cells": [
  {
   "cell_type": "code",
   "execution_count": 12,
   "metadata": {},
   "outputs": [],
   "source": [
    "import csv\n",
    "import numpy as np\n",
    "import pandas as pd\n",
    "import random as rand\n",
    "import matplotlib.pyplot as plt"
   ]
  },
  {
   "cell_type": "code",
   "execution_count": 7,
   "metadata": {},
   "outputs": [],
   "source": [
    "with open('data/test.csv', 'w', newline='') as file :\n",
    "    csv_write = csv.writer(file)\n",
    "    csv_write.writerow(['Test1', 'Test2', 'Test3'])\n",
    "    csv_write.writerow(['test1', 'test2', 'test3'])"
   ]
  },
  {
   "cell_type": "code",
   "execution_count": null,
   "metadata": {},
   "outputs": [
    {
     "name": "stdout",
     "output_type": "stream",
     "text": [
      "['Test1', 'Test2', 'Test3']\n",
      "['test1', 'test2', 'test3']\n"
     ]
    }
   ],
   "source": [
    "with open('data/test.csv', 'r') as file :\n",
    "    csv_read = csv.reader(file)\n",
    "    for row in csv_read :\n",
    "        print(row)\n",
    "        "
   ]
  }
 ],
 "metadata": {
  "kernelspec": {
   "display_name": "base",
   "language": "python",
   "name": "python3"
  },
  "language_info": {
   "codemirror_mode": {
    "name": "ipython",
    "version": 3
   },
   "file_extension": ".py",
   "mimetype": "text/x-python",
   "name": "python",
   "nbconvert_exporter": "python",
   "pygments_lexer": "ipython3",
   "version": "3.11.7"
  }
 },
 "nbformat": 4,
 "nbformat_minor": 2
}
