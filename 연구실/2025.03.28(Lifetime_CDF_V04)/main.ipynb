{
 "cells": [
  {
   "cell_type": "code",
   "execution_count": 1,
   "metadata": {},
   "outputs": [],
   "source": [
    "from collections import defaultdict"
   ]
  },
  {
   "cell_type": "code",
   "execution_count": 2,
   "metadata": {},
   "outputs": [],
   "source": [
    "start_file = 'route_lifetime_start.txt'\n",
    "end_file = 'route_lifetime_end.txt'\n",
    "output_file = 'route_lifetime_result.txt'"
   ]
  },
  {
   "cell_type": "code",
   "execution_count": 5,
   "metadata": {},
   "outputs": [],
   "source": [
    "start_times = defaultdict(list)\n",
    "end_times = defaultdict(list)"
   ]
  },
  {
   "cell_type": "code",
   "execution_count": 6,
   "metadata": {},
   "outputs": [],
   "source": [
    "with open(start_file, 'r') as f:\n",
    "    for line in f:\n",
    "        dest, node, time = line.strip().split(',')\n",
    "        start_times[(dest, node)].append(float(time))\n",
    "\n",
    "with open(end_file, 'r') as f:\n",
    "    for line in f:\n",
    "        dest, node, time = line.strip().split(',')\n",
    "        end_times[(dest, node)].append(float(time))"
   ]
  },
  {
   "cell_type": "code",
   "execution_count": null,
   "metadata": {},
   "outputs": [],
   "source": [
    "with open(output_file, 'w') as out:\n",
    "    out.write('Node, Destination, Lifetime_Start, Lifetime_End, Duration\\n')\n",
    "    for key in start_times :\n",
    "        starts = start_times[key]\n",
    "        ends = end_times[key]\n",
    "        "
   ]
  }
 ],
 "metadata": {
  "kernelspec": {
   "display_name": "base",
   "language": "python",
   "name": "python3"
  },
  "language_info": {
   "codemirror_mode": {
    "name": "ipython",
    "version": 3
   },
   "file_extension": ".py",
   "mimetype": "text/x-python",
   "name": "python",
   "nbconvert_exporter": "python",
   "pygments_lexer": "ipython3",
   "version": "3.11.7"
  }
 },
 "nbformat": 4,
 "nbformat_minor": 2
}
