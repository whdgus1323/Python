{
 "cells": [
  {
   "cell_type": "code",
   "execution_count": 1,
   "id": "2e58cb5b",
   "metadata": {},
   "outputs": [
    {
     "ename": "ModuleNotFoundError",
     "evalue": "No module named 'openai'",
     "output_type": "error",
     "traceback": [
      "\u001b[1;31m---------------------------------------------------------------------------\u001b[0m",
      "\u001b[1;31mModuleNotFoundError\u001b[0m                       Traceback (most recent call last)",
      "Cell \u001b[1;32mIn[1], line 4\u001b[0m\n\u001b[0;32m      1\u001b[0m \u001b[38;5;66;03m# 간단한 Manus 스타일 에이전트 (OpenAI GPT 기반)\u001b[39;00m\n\u001b[0;32m      2\u001b[0m \u001b[38;5;66;03m# 주요 기능: 유저 명령 해석, 코드 실행, 파일 생성 등\u001b[39;00m\n\u001b[1;32m----> 4\u001b[0m \u001b[38;5;28;01mimport\u001b[39;00m \u001b[38;5;21;01mopenai\u001b[39;00m\n\u001b[0;32m      5\u001b[0m \u001b[38;5;28;01mimport\u001b[39;00m \u001b[38;5;21;01mos\u001b[39;00m\n\u001b[0;32m      6\u001b[0m \u001b[38;5;28;01mimport\u001b[39;00m \u001b[38;5;21;01msubprocess\u001b[39;00m\n",
      "\u001b[1;31mModuleNotFoundError\u001b[0m: No module named 'openai'"
     ]
    }
   ],
   "source": [
    "# 간단한 Manus 스타일 에이전트 (OpenAI GPT 기반)\n",
    "# 주요 기능: 유저 명령 해석, 코드 실행, 파일 생성 등\n",
    "\n",
    "import openai\n",
    "import os\n",
    "import subprocess\n",
    "\n",
    "openai.api_key = os.getenv(\"OPENAI_API_KEY\")  # 환경변수로 API 키 설정\n",
    "\n",
    "def ask_agent(prompt):\n",
    "    response = openai.ChatCompletion.create(\n",
    "        model=\"gpt-4\",\n",
    "        messages=[\n",
    "            {\"role\": \"system\", \"content\": \"You are a helpful autonomous AI agent that completes tasks as instructed.\"},\n",
    "            {\"role\": \"user\", \"content\": prompt}\n",
    "        ]\n",
    "    )\n",
    "    return response.choices[0].message.content.strip()\n",
    "\n",
    "def handle_task(task):\n",
    "    print(f\"[사용자 지시] {task}\")\n",
    "    \n",
    "    # 1. 지시를 GPT에 전달하여 계획 수립\n",
    "    plan_prompt = f\"\"\"\n",
    "    사용자가 다음과 같은 작업을 요청했습니다:\n",
    "    \"{task}\"\n",
    "\n",
    "    이 작업을 완료하기 위한 단계별 계획을 짧고 명확하게 작성하세요.\n",
    "    \"\"\"\n",
    "    plan = ask_agent(plan_prompt)\n",
    "    print(\"[계획 수립]\")\n",
    "    print(plan)\n",
    "\n",
    "    # 2. 코드가 필요한 경우 생성 요청\n",
    "    if \"코드\" in task or \"스크립트\" in task or \"자동화\" in task:\n",
    "        code_prompt = f\"\"\"\n",
    "        다음 작업을 자동화하기 위한 파이썬 코드를 작성하세요:\n",
    "        {task}\n",
    "        코드만 출력하세요.\n",
    "        \"\"\"\n",
    "        code = ask_agent(code_prompt)\n",
    "        with open(\"task_script.py\", \"w\") as f:\n",
    "            f.write(code)\n",
    "        print(\"[코드 생성 완료 → task_script.py]\")\n",
    "        \n",
    "        try:\n",
    "            result = subprocess.check_output([\"python\", \"task_script.py\"], stderr=subprocess.STDOUT, text=True)\n",
    "            print(\"[실행 결과]\")\n",
    "            print(result)\n",
    "        except subprocess.CalledProcessError as e:\n",
    "            print(\"[오류 발생]\")\n",
    "            print(e.output)\n",
    "    else:\n",
    "        # 단순 정보형 작업이면 응답 출력\n",
    "        print(\"[응답]\")\n",
    "        print(ask_agent(task))\n",
    "\n",
    "if __name__ == \"__main__\":\n",
    "    while True:\n",
    "        task = input(\"명령어 입력 > \")\n",
    "        if task in [\"exit\", \"quit\"]:\n",
    "            break\n",
    "        handle_task(task)\n"
   ]
  }
 ],
 "metadata": {
  "kernelspec": {
   "display_name": "base",
   "language": "python",
   "name": "python3"
  },
  "language_info": {
   "codemirror_mode": {
    "name": "ipython",
    "version": 3
   },
   "file_extension": ".py",
   "mimetype": "text/x-python",
   "name": "python",
   "nbconvert_exporter": "python",
   "pygments_lexer": "ipython3",
   "version": "3.11.7"
  }
 },
 "nbformat": 4,
 "nbformat_minor": 5
}
