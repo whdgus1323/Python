{
 "cells": [
  {
   "cell_type": "code",
   "execution_count": 1,
   "id": "4e29940a",
   "metadata": {},
   "outputs": [],
   "source": [
    "import os, csv, random\n",
    "import numpy as np\n",
    "import tensorflow as tf\n",
    "from tensorflow import keras"
   ]
  },
  {
   "cell_type": "code",
   "execution_count": 2,
   "id": "310c1018",
   "metadata": {},
   "outputs": [],
   "source": [
    "def env_step(x, a):\n",
    "    x2 = x + float(a) + np.random.normal(0.0, 0.1)\n",
    "    reward = -abs(x2)\n",
    "    done = abs(x2) > 6.0\n",
    "    return x2, reward, done\n",
    "\n",
    "def env_reset():\n",
    "    return np.random.uniform(-5.0, 5.0)"
   ]
  },
  {
   "cell_type": "code",
   "execution_count": 3,
   "id": "0eda1462",
   "metadata": {},
   "outputs": [],
   "source": [
    "def make_csv(path='transitions.csv', episodes = 4000):\n",
    "    header = ['s0', 'action', 'reward', 's2_0', 'done']\n",
    "    with open(path, 'w', newline='') as f:\n",
    "        w = csv.writer(f)\n",
    "        w.writerow(header)\n",
    "        for _ in range(episodes) :\n",
    "            x = env_reset()\n",
    "            for _t in range(20) :\n",
    "                a = random.choice([-1, 1])\n",
    "                x2, r, done = env_step(x, a)\n",
    "                w.writerow([x, a, r, x2, int(done)])\n",
    "                x = x2\n",
    "                if done:\n",
    "                    break\n",
    "    print(f\"[CSV] Saved transitions to: {path}\")"
   ]
  },
  {
   "cell_type": "code",
   "execution_count": 4,
   "id": "0d067a40",
   "metadata": {},
   "outputs": [
    {
     "name": "stdout",
     "output_type": "stream",
     "text": [
      "[CSV] Saved transitions to: transitions.csv\n"
     ]
    }
   ],
   "source": [
    "make_csv()"
   ]
  }
 ],
 "metadata": {
  "kernelspec": {
   "display_name": "base",
   "language": "python",
   "name": "python3"
  },
  "language_info": {
   "codemirror_mode": {
    "name": "ipython",
    "version": 3
   },
   "file_extension": ".py",
   "mimetype": "text/x-python",
   "name": "python",
   "nbconvert_exporter": "python",
   "pygments_lexer": "ipython3",
   "version": "3.11.7"
  }
 },
 "nbformat": 4,
 "nbformat_minor": 5
}
